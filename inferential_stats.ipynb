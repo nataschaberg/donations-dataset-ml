{
 "cells": [
  {
   "cell_type": "code",
   "execution_count": 2,
   "id": "ce5c2773",
   "metadata": {},
   "outputs": [],
   "source": [
    "import pandas as pd\n",
    "import numpy as np\n",
    "import math"
   ]
  },
  {
   "cell_type": "markdown",
   "id": "c577b951",
   "metadata": {},
   "source": [
    "## Context"
   ]
  },
  {
   "cell_type": "markdown",
   "id": "dcc785df",
   "metadata": {},
   "source": [
    "\n",
    "It is assumed that the mean systolic blood pressure is μ = 120 mm Hg. \n",
    "\n",
    "In the Honolulu Heart Study, a sample of n = 100 people had an average \n",
    "systolic blood pressure of 130.1 mm Hg with a standard deviation of 21.21 mm Hg. \n",
    "\n",
    "Is the group significantly different (with respect to systolic blood pressure!) \n",
    "from the regular population?\n",
    "\n",
    "Set up the hypothesis test.\n",
    "\n",
    "Write down all the steps followed for setting up the test.\n",
    "\n",
    "Calculate the test statistic by hand and also code it in Python. \n",
    "\n",
    "It should be 4.76190. "
   ]
  },
  {
   "cell_type": "markdown",
   "id": "04f62257",
   "metadata": {},
   "source": [
    "### 1) Define the Null Hypthesis and the Alternative Hypothesis:\n",
    "\n",
    "\n",
    "__Null Hypothesis:__\n",
    "The mean systolic blood pressure is 120 mm Hg (μ = 120 mm Hg)\n",
    "\n",
    "\n",
    "\n",
    "__Alternative Hypothesis:__\n",
    "A sample from 100 peope had a mean systolic blood prssure of 130.1 mm Hg and standard deviation of 21.21 mm Hg (μ = 130.1 mm Hg; std = 21.21 mm Hg)"
   ]
  },
  {
   "cell_type": "markdown",
   "id": "7bd976aa",
   "metadata": {},
   "source": [
    " ### 2) Since the alternative hypothesis wants to determine that the mean of the sample is different compared to the null hypothesis - this can be considered a two tail test"
   ]
  },
  {
   "cell_type": "markdown",
   "id": "4e945e8e",
   "metadata": {},
   "source": [
    "### 3) Set alpha as p = 0.05 \n",
    "\n",
    "For a two tailed test with sample size 100 this would give the value **1.984**"
   ]
  },
  {
   "cell_type": "markdown",
   "id": "14032176",
   "metadata": {},
   "source": [
    "### 4) Calculate the statistic"
   ]
  },
  {
   "cell_type": "markdown",
   "id": "09354277",
   "metadata": {},
   "source": [
    "- we chose the t-test here because:\n",
    "- we do not know the standard deviation from the population\n",
    "- we have only 100 samples\n",
    "- we assume that the samples are normally distributed"
   ]
  },
  {
   "cell_type": "code",
   "execution_count": 3,
   "id": "6296a8e8",
   "metadata": {},
   "outputs": [
    {
     "name": "stdout",
     "output_type": "stream",
     "text": [
      "the observed statistic is:  4.761904761904759\n"
     ]
    }
   ],
   "source": [
    "sample_mean = 130.1 \n",
    "pop_mean = 120.0\n",
    "sample_std = 21.21\n",
    "n = 100\n",
    "\n",
    "statistic = (sample_mean - pop_mean)/(sample_std/math.sqrt(n))\n",
    "print('The observed statistic is: ', statistic)"
   ]
  },
  {
   "cell_type": "markdown",
   "id": "b5bc825c",
   "metadata": {},
   "source": [
    "### 5) Conclusion\n",
    "\n",
    "- given that the observed statistic is greater than alpha (4.762 > 1.984) we can reject the null nypothesis\n",
    "- this result indicates that the probability of the observed statistic being drawn from the null hypothesis distribution (being observed in a world where the null hypothesis is true) is lower than 5% - and thus - as it is lower than our preset threshold we reject it"
   ]
  }
 ],
 "metadata": {
  "kernelspec": {
   "display_name": "Python 3 (ipykernel)",
   "language": "python",
   "name": "python3"
  },
  "language_info": {
   "codemirror_mode": {
    "name": "ipython",
    "version": 3
   },
   "file_extension": ".py",
   "mimetype": "text/x-python",
   "name": "python",
   "nbconvert_exporter": "python",
   "pygments_lexer": "ipython3",
   "version": "3.9.12"
  }
 },
 "nbformat": 4,
 "nbformat_minor": 5
}
