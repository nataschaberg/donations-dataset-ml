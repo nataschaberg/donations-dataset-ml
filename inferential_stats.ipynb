{
 "cells": [
  {
   "cell_type": "code",
   "execution_count": 9,
   "id": "ce5c2773",
   "metadata": {},
   "outputs": [],
   "source": [
    "import pandas as pd\n",
    "import numpy as np\n",
    "import math\n",
    "from scipy import stats\n",
    "import matplotlib.pyplot as plt"
   ]
  },
  {
   "cell_type": "markdown",
   "id": "c577b951",
   "metadata": {},
   "source": [
    "## Context"
   ]
  },
  {
   "cell_type": "markdown",
   "id": "dcc785df",
   "metadata": {},
   "source": [
    "\n",
    "It is assumed that the mean systolic blood pressure is μ = 120 mm Hg. \n",
    "\n",
    "In the Honolulu Heart Study, a sample of n = 100 people had an average \n",
    "systolic blood pressure of 130.1 mm Hg with a standard deviation of 21.21 mm Hg. \n",
    "\n",
    "Is the group significantly different (with respect to systolic blood pressure!) \n",
    "from the regular population?\n",
    "\n",
    "Set up the hypothesis test.\n",
    "\n",
    "Write down all the steps followed for setting up the test.\n",
    "\n",
    "Calculate the test statistic by hand and also code it in Python. \n",
    "\n",
    "It should be 4.76190. "
   ]
  },
  {
   "cell_type": "markdown",
   "id": "04f62257",
   "metadata": {},
   "source": [
    "### 1) Define the Null Hypthesis and the Alternative Hypothesis:\n",
    "\n",
    "\n",
    "__Null Hypothesis:__\n",
    "The mean systolic blood pressure is 120 mm Hg (μ = 120 mm Hg)\n",
    "\n",
    "\n",
    "\n",
    "__Alternative Hypothesis:__\n",
    "A sample from 100 peope had a mean systolic blood prssure of 130.1 mm Hg and standard deviation of 21.21 mm Hg (μ = 130.1 mm Hg; std = 21.21 mm Hg)"
   ]
  },
  {
   "cell_type": "markdown",
   "id": "7bd976aa",
   "metadata": {},
   "source": [
    " ### 2) Since the alternative hypothesis wants to determine that the mean of the sample is different compared to the null hypothesis - this can be considered a two tail test"
   ]
  },
  {
   "cell_type": "markdown",
   "id": "4e945e8e",
   "metadata": {},
   "source": [
    "### 3) Set alpha as p = 0.05 \n",
    "\n",
    "For a two tailed test with sample size 100 this would give the value **1.984**"
   ]
  },
  {
   "cell_type": "markdown",
   "id": "14032176",
   "metadata": {},
   "source": [
    "### 4) Calculate the statistic"
   ]
  },
  {
   "cell_type": "markdown",
   "id": "09354277",
   "metadata": {},
   "source": [
    "- we chose the t-test here because:\n",
    "- we do not know the standard deviation from the population\n",
    "- we have only 100 samples\n",
    "- we assume that the samples are normally distributed"
   ]
  },
  {
   "cell_type": "code",
   "execution_count": 2,
   "id": "6296a8e8",
   "metadata": {},
   "outputs": [
    {
     "name": "stdout",
     "output_type": "stream",
     "text": [
      "The observed statistic is:  4.761904761904759\n"
     ]
    }
   ],
   "source": [
    "sample_mean = 130.1 \n",
    "pop_mean = 120.0\n",
    "sample_std = 21.21\n",
    "n = 100\n",
    "\n",
    "statistic = (sample_mean - pop_mean)/(sample_std/math.sqrt(n))\n",
    "print('The observed statistic is: ', statistic)"
   ]
  },
  {
   "cell_type": "markdown",
   "id": "b5bc825c",
   "metadata": {},
   "source": [
    "### 5) Conclusion\n",
    "\n",
    "- given that the observed statistic is greater than alpha (4.762 > 1.984) we can reject the null nypothesis\n",
    "- this result indicates that the probability of the observed statistic being drawn from the null hypothesis distribution (being observed in a world where the null hypothesis is true) is lower than 5% - and thus - as it is lower than our preset threshold we reject it"
   ]
  },
  {
   "cell_type": "markdown",
   "id": "dfb05dc8",
   "metadata": {},
   "source": [
    "--------"
   ]
  },
  {
   "cell_type": "markdown",
   "id": "89e2a98d",
   "metadata": {},
   "source": [
    "-----------"
   ]
  },
  {
   "cell_type": "markdown",
   "id": "41a5e417",
   "metadata": {},
   "source": [
    "### Inferential statistics - T-test & P-value "
   ]
  },
  {
   "cell_type": "code",
   "execution_count": 3,
   "id": "dad7ef46",
   "metadata": {},
   "outputs": [
    {
     "data": {
      "text/html": [
       "<div>\n",
       "<style scoped>\n",
       "    .dataframe tbody tr th:only-of-type {\n",
       "        vertical-align: middle;\n",
       "    }\n",
       "\n",
       "    .dataframe tbody tr th {\n",
       "        vertical-align: top;\n",
       "    }\n",
       "\n",
       "    .dataframe thead th {\n",
       "        text-align: right;\n",
       "    }\n",
       "</style>\n",
       "<table border=\"1\" class=\"dataframe\">\n",
       "  <thead>\n",
       "    <tr style=\"text-align: right;\">\n",
       "      <th></th>\n",
       "      <th>New machine</th>\n",
       "      <th>Old machine</th>\n",
       "    </tr>\n",
       "  </thead>\n",
       "  <tbody>\n",
       "    <tr>\n",
       "      <th>0</th>\n",
       "      <td>42.1</td>\n",
       "      <td>42.7</td>\n",
       "    </tr>\n",
       "    <tr>\n",
       "      <th>1</th>\n",
       "      <td>41.0</td>\n",
       "      <td>43.6</td>\n",
       "    </tr>\n",
       "    <tr>\n",
       "      <th>2</th>\n",
       "      <td>41.3</td>\n",
       "      <td>43.8</td>\n",
       "    </tr>\n",
       "    <tr>\n",
       "      <th>3</th>\n",
       "      <td>41.8</td>\n",
       "      <td>43.3</td>\n",
       "    </tr>\n",
       "    <tr>\n",
       "      <th>4</th>\n",
       "      <td>42.4</td>\n",
       "      <td>42.5</td>\n",
       "    </tr>\n",
       "    <tr>\n",
       "      <th>5</th>\n",
       "      <td>42.8</td>\n",
       "      <td>43.5</td>\n",
       "    </tr>\n",
       "    <tr>\n",
       "      <th>6</th>\n",
       "      <td>43.2</td>\n",
       "      <td>43.1</td>\n",
       "    </tr>\n",
       "    <tr>\n",
       "      <th>7</th>\n",
       "      <td>42.3</td>\n",
       "      <td>41.7</td>\n",
       "    </tr>\n",
       "    <tr>\n",
       "      <th>8</th>\n",
       "      <td>41.8</td>\n",
       "      <td>44.0</td>\n",
       "    </tr>\n",
       "    <tr>\n",
       "      <th>9</th>\n",
       "      <td>42.7</td>\n",
       "      <td>44.1</td>\n",
       "    </tr>\n",
       "  </tbody>\n",
       "</table>\n",
       "</div>"
      ],
      "text/plain": [
       "   New machine  Old machine\n",
       "0         42.1         42.7\n",
       "1         41.0         43.6\n",
       "2         41.3         43.8\n",
       "3         41.8         43.3\n",
       "4         42.4         42.5\n",
       "5         42.8         43.5\n",
       "6         43.2         43.1\n",
       "7         42.3         41.7\n",
       "8         41.8         44.0\n",
       "9         42.7         44.1"
      ]
     },
     "execution_count": 3,
     "metadata": {},
     "output_type": "execute_result"
    }
   ],
   "source": [
    "packing = pd.read_csv('machine.txt', sep='\\t', encoding='utf-16')\n",
    "packing.columns = packing.columns.str.strip()\n",
    "packing"
   ]
  },
  {
   "cell_type": "code",
   "execution_count": 7,
   "id": "ef5026bf",
   "metadata": {},
   "outputs": [
    {
     "data": {
      "text/plain": [
       "(42.14, 0.6834552736727638)"
      ]
     },
     "execution_count": 7,
     "metadata": {},
     "output_type": "execute_result"
    }
   ],
   "source": [
    "packing['New machine'].mean(), packing['New machine'].std()"
   ]
  },
  {
   "cell_type": "code",
   "execution_count": 8,
   "id": "60c67fde",
   "metadata": {},
   "outputs": [
    {
     "data": {
      "text/plain": [
       "(43.230000000000004, 0.7498888806572157)"
      ]
     },
     "execution_count": 8,
     "metadata": {},
     "output_type": "execute_result"
    }
   ],
   "source": [
    "packing['Old machine'].mean(), packing['Old machine'].std()"
   ]
  },
  {
   "cell_type": "code",
   "execution_count": 14,
   "id": "65cc298e",
   "metadata": {},
   "outputs": [
    {
     "data": {
      "image/png": "[encoded data removed]",
      "text/plain": [
       "<Figure size 640x480 with 1 Axes>"
      ]
     },
     "metadata": {},
     "output_type": "display_data"
    }
   ],
   "source": [
    "plt.hist(packing['New machine'])\n",
    "plt.show()"
   ]
  },
  {
   "cell_type": "code",
   "execution_count": 15,
   "id": "889c6e49",
   "metadata": {},
   "outputs": [
    {
     "data": {
      "image/png": "[encoded data removed]",
      "text/plain": [
       "<Figure size 640x480 with 1 Axes>"
      ]
     },
     "metadata": {},
     "output_type": "display_data"
    }
   ],
   "source": [
    "plt.hist(packing['Old machine'])\n",
    "plt.show()"
   ]
  },
  {
   "cell_type": "markdown",
   "id": "63181ebc",
   "metadata": {},
   "source": [
    "In a packing plant, a machine packs cartons with jars. It is supposed that a new machine will pack faster on the average than the machine currently used. \n",
    "To test that hypothesis, the times it takes each machine to pack ten cartons are recorded. \n",
    "Assume that there is sufficient evidence to conduct the t test, does the data provide sufficient evidence to show if one machine is better than the other"
   ]
  },
  {
   "cell_type": "markdown",
   "id": "fd50ec8e",
   "metadata": {},
   "source": [
    "**Null Hypothesis**\n",
    "\n",
    "There is no significant difference between the mean of the old machine and the new machine.\n",
    "\n",
    "**Alternative Hypothesis**\n",
    "\n",
    "The mean from the new machine is higher to the mean of the old machine.\n",
    "\n",
    "**Level of Significance (alpha)**\n",
    "\n",
    "We assume an alpha of 0.05\n"
   ]
  },
  {
   "cell_type": "code",
   "execution_count": 16,
   "id": "e4210201",
   "metadata": {},
   "outputs": [],
   "source": [
    "t_stat, p_value = stats.ttest_ind(packing['Old machine'], packing['New machine'])"
   ]
  },
  {
   "cell_type": "code",
   "execution_count": 17,
   "id": "c2a6ce54",
   "metadata": {},
   "outputs": [
    {
     "data": {
      "text/plain": [
       "(3.3972307061176026, 0.0032111425007745158)"
      ]
     },
     "execution_count": 17,
     "metadata": {},
     "output_type": "execute_result"
    }
   ],
   "source": [
    "t_stat, p_value"
   ]
  },
  {
   "cell_type": "markdown",
   "id": "b1945f08",
   "metadata": {},
   "source": [
    "### Evaluate for one sided t-test"
   ]
  },
  {
   "cell_type": "code",
   "execution_count": 18,
   "id": "f9fe0b28",
   "metadata": {},
   "outputs": [
    {
     "name": "stdout",
     "output_type": "stream",
     "text": [
      "The p value is 0.0016055712503872579 - which is smaller than alpha 0.05\n"
     ]
    }
   ],
   "source": [
    "print('The p value is', p_value/2, '- which is smaller than alpha 0.05')"
   ]
  },
  {
   "cell_type": "markdown",
   "id": "aff4e9da",
   "metadata": {},
   "source": [
    "### Conclusion\n",
    "\n",
    "Given that the p value is smaller than our preset alpha of 0.05 we can reject the Null Hypothesis in favour of the Alternative Hypothesis. The new machine packs faster on average than the old machine."
   ]
  },
  {
   "cell_type": "code",
   "execution_count": null,
   "id": "edf0ad0e",
   "metadata": {},
   "outputs": [],
   "source": []
  }
 ],
 "metadata": {
  "kernelspec": {
   "display_name": "Python 3 (ipykernel)",
   "language": "python",
   "name": "python3"
  },
  "language_info": {
   "codemirror_mode": {
    "name": "ipython",
    "version": 3
   },
   "file_extension": ".py",
   "mimetype": "text/x-python",
   "name": "python",
   "nbconvert_exporter": "python",
   "pygments_lexer": "ipython3",
   "version": "3.9.12"
  }
 },
 "nbformat": 4,
 "nbformat_minor": 5
}
