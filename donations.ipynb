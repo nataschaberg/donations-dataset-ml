{
 "cells": [
  {
   "cell_type": "code",
   "execution_count": 1,
   "id": "28573ed7",
   "metadata": {},
   "outputs": [],
   "source": [
    "import pandas as pd\n",
    "import numpy as np\n",
    "pd.set_option('display.max_columns', 100)\n",
    "pd.set_option('display.min_rows', 500)\n",
    "\n",
    "import matplotlib.pyplot as plt\n",
    "import seaborn as sns\n",
    "%matplotlib inline\n",
    "plt.rcParams['figure.figsize'] = (5,3)\n",
    "\n",
    "import warnings\n",
    "warnings.filterwarnings('ignore')"
   ]
  },
  {
   "cell_type": "code",
   "execution_count": 2,
   "id": "f258bf36",
   "metadata": {},
   "outputs": [
    {
     "data": {
      "text/plain": [
       "(95412, 481)"
      ]
     },
     "execution_count": 2,
     "metadata": {},
     "output_type": "execute_result"
    }
   ],
   "source": [
    "df = pd.read_csv('learningSet.csv')\n",
    "df.shape"
   ]
  },
  {
   "cell_type": "code",
   "execution_count": 3,
   "id": "92149f6f",
   "metadata": {
    "scrolled": true
   },
   "outputs": [
    {
     "data": {
      "text/html": [
       "<div>\n",
       "<style scoped>\n",
       "    .dataframe tbody tr th:only-of-type {\n",
       "        vertical-align: middle;\n",
       "    }\n",
       "\n",
       "    .dataframe tbody tr th {\n",
       "        vertical-align: top;\n",
       "    }\n",
       "\n",
       "    .dataframe thead th {\n",
       "        text-align: right;\n",
       "    }\n",
       "</style>\n",
       "<table border=\"1\" class=\"dataframe\">\n",
       "  <thead>\n",
       "    <tr style=\"text-align: right;\">\n",
       "      <th></th>\n",
       "      <th>ODATEDW</th>\n",
       "      <th>OSOURCE</th>\n",
       "      <th>TCODE</th>\n",
       "      <th>STATE</th>\n",
       "      <th>ZIP</th>\n",
       "      <th>MAILCODE</th>\n",
       "      <th>PVASTATE</th>\n",
       "      <th>DOB</th>\n",
       "      <th>NOEXCH</th>\n",
       "      <th>RECINHSE</th>\n",
       "      <th>RECP3</th>\n",
       "      <th>RECPGVG</th>\n",
       "      <th>RECSWEEP</th>\n",
       "      <th>MDMAUD</th>\n",
       "      <th>DOMAIN</th>\n",
       "      <th>CLUSTER</th>\n",
       "      <th>AGE</th>\n",
       "      <th>AGEFLAG</th>\n",
       "      <th>HOMEOWNR</th>\n",
       "      <th>CHILD03</th>\n",
       "      <th>CHILD07</th>\n",
       "      <th>CHILD12</th>\n",
       "      <th>CHILD18</th>\n",
       "      <th>NUMCHLD</th>\n",
       "      <th>INCOME</th>\n",
       "      <th>GENDER</th>\n",
       "      <th>WEALTH1</th>\n",
       "      <th>HIT</th>\n",
       "      <th>MBCRAFT</th>\n",
       "      <th>MBGARDEN</th>\n",
       "      <th>MBBOOKS</th>\n",
       "      <th>MBCOLECT</th>\n",
       "      <th>MAGFAML</th>\n",
       "      <th>MAGFEM</th>\n",
       "      <th>MAGMALE</th>\n",
       "      <th>PUBGARDN</th>\n",
       "      <th>PUBCULIN</th>\n",
       "      <th>PUBHLTH</th>\n",
       "      <th>PUBDOITY</th>\n",
       "      <th>PUBNEWFN</th>\n",
       "      <th>PUBPHOTO</th>\n",
       "      <th>PUBOPP</th>\n",
       "      <th>DATASRCE</th>\n",
       "      <th>MALEMILI</th>\n",
       "      <th>MALEVET</th>\n",
       "      <th>VIETVETS</th>\n",
       "      <th>WWIIVETS</th>\n",
       "      <th>LOCALGOV</th>\n",
       "      <th>STATEGOV</th>\n",
       "      <th>FEDGOV</th>\n",
       "      <th>...</th>\n",
       "      <th>RDATE_22</th>\n",
       "      <th>RDATE_23</th>\n",
       "      <th>RDATE_24</th>\n",
       "      <th>RAMNT_3</th>\n",
       "      <th>RAMNT_4</th>\n",
       "      <th>RAMNT_5</th>\n",
       "      <th>RAMNT_6</th>\n",
       "      <th>RAMNT_7</th>\n",
       "      <th>RAMNT_8</th>\n",
       "      <th>RAMNT_9</th>\n",
       "      <th>RAMNT_10</th>\n",
       "      <th>RAMNT_11</th>\n",
       "      <th>RAMNT_12</th>\n",
       "      <th>RAMNT_13</th>\n",
       "      <th>RAMNT_14</th>\n",
       "      <th>RAMNT_15</th>\n",
       "      <th>RAMNT_16</th>\n",
       "      <th>RAMNT_17</th>\n",
       "      <th>RAMNT_18</th>\n",
       "      <th>RAMNT_19</th>\n",
       "      <th>RAMNT_20</th>\n",
       "      <th>RAMNT_21</th>\n",
       "      <th>RAMNT_22</th>\n",
       "      <th>RAMNT_23</th>\n",
       "      <th>RAMNT_24</th>\n",
       "      <th>RAMNTALL</th>\n",
       "      <th>NGIFTALL</th>\n",
       "      <th>CARDGIFT</th>\n",
       "      <th>MINRAMNT</th>\n",
       "      <th>MINRDATE</th>\n",
       "      <th>MAXRAMNT</th>\n",
       "      <th>MAXRDATE</th>\n",
       "      <th>LASTGIFT</th>\n",
       "      <th>LASTDATE</th>\n",
       "      <th>FISTDATE</th>\n",
       "      <th>NEXTDATE</th>\n",
       "      <th>TIMELAG</th>\n",
       "      <th>AVGGIFT</th>\n",
       "      <th>CONTROLN</th>\n",
       "      <th>TARGET_B</th>\n",
       "      <th>TARGET_D</th>\n",
       "      <th>HPHONE_D</th>\n",
       "      <th>RFA_2R</th>\n",
       "      <th>RFA_2F</th>\n",
       "      <th>RFA_2A</th>\n",
       "      <th>MDMAUD_R</th>\n",
       "      <th>MDMAUD_F</th>\n",
       "      <th>MDMAUD_A</th>\n",
       "      <th>CLUSTER2</th>\n",
       "      <th>GEOCODE2</th>\n",
       "    </tr>\n",
       "  </thead>\n",
       "  <tbody>\n",
       "    <tr>\n",
       "      <th>0</th>\n",
       "      <td>8901</td>\n",
       "      <td>GRI</td>\n",
       "      <td>0</td>\n",
       "      <td>IL</td>\n",
       "      <td>61081</td>\n",
       "      <td></td>\n",
       "      <td></td>\n",
       "      <td>3712</td>\n",
       "      <td>0</td>\n",
       "      <td></td>\n",
       "      <td></td>\n",
       "      <td></td>\n",
       "      <td></td>\n",
       "      <td>XXXX</td>\n",
       "      <td>T2</td>\n",
       "      <td>36</td>\n",
       "      <td>60.0</td>\n",
       "      <td></td>\n",
       "      <td></td>\n",
       "      <td></td>\n",
       "      <td></td>\n",
       "      <td></td>\n",
       "      <td></td>\n",
       "      <td>NaN</td>\n",
       "      <td>NaN</td>\n",
       "      <td>F</td>\n",
       "      <td>NaN</td>\n",
       "      <td>0</td>\n",
       "      <td>NaN</td>\n",
       "      <td>NaN</td>\n",
       "      <td>NaN</td>\n",
       "      <td>NaN</td>\n",
       "      <td>NaN</td>\n",
       "      <td>NaN</td>\n",
       "      <td>NaN</td>\n",
       "      <td>NaN</td>\n",
       "      <td>NaN</td>\n",
       "      <td>NaN</td>\n",
       "      <td>NaN</td>\n",
       "      <td>NaN</td>\n",
       "      <td>NaN</td>\n",
       "      <td>NaN</td>\n",
       "      <td></td>\n",
       "      <td>0</td>\n",
       "      <td>39</td>\n",
       "      <td>34</td>\n",
       "      <td>18</td>\n",
       "      <td>10</td>\n",
       "      <td>2</td>\n",
       "      <td>1</td>\n",
       "      <td>...</td>\n",
       "      <td>NaN</td>\n",
       "      <td>9408.0</td>\n",
       "      <td>9406.0</td>\n",
       "      <td>NaN</td>\n",
       "      <td>NaN</td>\n",
       "      <td>NaN</td>\n",
       "      <td>NaN</td>\n",
       "      <td>NaN</td>\n",
       "      <td>NaN</td>\n",
       "      <td>NaN</td>\n",
       "      <td>10.0</td>\n",
       "      <td>NaN</td>\n",
       "      <td>NaN</td>\n",
       "      <td>NaN</td>\n",
       "      <td>10.0</td>\n",
       "      <td>11.0</td>\n",
       "      <td>11.0</td>\n",
       "      <td>11.0</td>\n",
       "      <td>NaN</td>\n",
       "      <td>NaN</td>\n",
       "      <td>NaN</td>\n",
       "      <td>NaN</td>\n",
       "      <td>NaN</td>\n",
       "      <td>11.0</td>\n",
       "      <td>9.0</td>\n",
       "      <td>240.0</td>\n",
       "      <td>31</td>\n",
       "      <td>14</td>\n",
       "      <td>5.0</td>\n",
       "      <td>9208</td>\n",
       "      <td>12.0</td>\n",
       "      <td>9402</td>\n",
       "      <td>10.0</td>\n",
       "      <td>9512</td>\n",
       "      <td>8911</td>\n",
       "      <td>9003.0</td>\n",
       "      <td>4.0</td>\n",
       "      <td>7.741935</td>\n",
       "      <td>95515</td>\n",
       "      <td>0</td>\n",
       "      <td>0.0</td>\n",
       "      <td>0</td>\n",
       "      <td>L</td>\n",
       "      <td>4</td>\n",
       "      <td>E</td>\n",
       "      <td>X</td>\n",
       "      <td>X</td>\n",
       "      <td>X</td>\n",
       "      <td>39.0</td>\n",
       "      <td>C</td>\n",
       "    </tr>\n",
       "    <tr>\n",
       "      <th>1</th>\n",
       "      <td>9401</td>\n",
       "      <td>BOA</td>\n",
       "      <td>1</td>\n",
       "      <td>CA</td>\n",
       "      <td>91326</td>\n",
       "      <td></td>\n",
       "      <td></td>\n",
       "      <td>5202</td>\n",
       "      <td>0</td>\n",
       "      <td></td>\n",
       "      <td></td>\n",
       "      <td></td>\n",
       "      <td></td>\n",
       "      <td>XXXX</td>\n",
       "      <td>S1</td>\n",
       "      <td>14</td>\n",
       "      <td>46.0</td>\n",
       "      <td>E</td>\n",
       "      <td>H</td>\n",
       "      <td></td>\n",
       "      <td></td>\n",
       "      <td></td>\n",
       "      <td>M</td>\n",
       "      <td>1.0</td>\n",
       "      <td>6.0</td>\n",
       "      <td>M</td>\n",
       "      <td>9.0</td>\n",
       "      <td>16</td>\n",
       "      <td>0.0</td>\n",
       "      <td>0.0</td>\n",
       "      <td>3.0</td>\n",
       "      <td>1.0</td>\n",
       "      <td>1.0</td>\n",
       "      <td>1.0</td>\n",
       "      <td>0.0</td>\n",
       "      <td>0.0</td>\n",
       "      <td>0.0</td>\n",
       "      <td>2.0</td>\n",
       "      <td>0.0</td>\n",
       "      <td>3.0</td>\n",
       "      <td>0.0</td>\n",
       "      <td>0.0</td>\n",
       "      <td>3</td>\n",
       "      <td>0</td>\n",
       "      <td>15</td>\n",
       "      <td>55</td>\n",
       "      <td>11</td>\n",
       "      <td>6</td>\n",
       "      <td>2</td>\n",
       "      <td>1</td>\n",
       "      <td>...</td>\n",
       "      <td>NaN</td>\n",
       "      <td>NaN</td>\n",
       "      <td>NaN</td>\n",
       "      <td>NaN</td>\n",
       "      <td>NaN</td>\n",
       "      <td>NaN</td>\n",
       "      <td>NaN</td>\n",
       "      <td>NaN</td>\n",
       "      <td>NaN</td>\n",
       "      <td>25.0</td>\n",
       "      <td>NaN</td>\n",
       "      <td>NaN</td>\n",
       "      <td>NaN</td>\n",
       "      <td>NaN</td>\n",
       "      <td>NaN</td>\n",
       "      <td>NaN</td>\n",
       "      <td>12.0</td>\n",
       "      <td>NaN</td>\n",
       "      <td>NaN</td>\n",
       "      <td>NaN</td>\n",
       "      <td>NaN</td>\n",
       "      <td>NaN</td>\n",
       "      <td>NaN</td>\n",
       "      <td>NaN</td>\n",
       "      <td>NaN</td>\n",
       "      <td>47.0</td>\n",
       "      <td>3</td>\n",
       "      <td>1</td>\n",
       "      <td>10.0</td>\n",
       "      <td>9310</td>\n",
       "      <td>25.0</td>\n",
       "      <td>9512</td>\n",
       "      <td>25.0</td>\n",
       "      <td>9512</td>\n",
       "      <td>9310</td>\n",
       "      <td>9504.0</td>\n",
       "      <td>18.0</td>\n",
       "      <td>15.666667</td>\n",
       "      <td>148535</td>\n",
       "      <td>0</td>\n",
       "      <td>0.0</td>\n",
       "      <td>0</td>\n",
       "      <td>L</td>\n",
       "      <td>2</td>\n",
       "      <td>G</td>\n",
       "      <td>X</td>\n",
       "      <td>X</td>\n",
       "      <td>X</td>\n",
       "      <td>1.0</td>\n",
       "      <td>A</td>\n",
       "    </tr>\n",
       "    <tr>\n",
       "      <th>2</th>\n",
       "      <td>9001</td>\n",
       "      <td>AMH</td>\n",
       "      <td>1</td>\n",
       "      <td>NC</td>\n",
       "      <td>27017</td>\n",
       "      <td></td>\n",
       "      <td></td>\n",
       "      <td>0</td>\n",
       "      <td>0</td>\n",
       "      <td></td>\n",
       "      <td></td>\n",
       "      <td></td>\n",
       "      <td></td>\n",
       "      <td>XXXX</td>\n",
       "      <td>R2</td>\n",
       "      <td>43</td>\n",
       "      <td>NaN</td>\n",
       "      <td></td>\n",
       "      <td>U</td>\n",
       "      <td></td>\n",
       "      <td></td>\n",
       "      <td></td>\n",
       "      <td></td>\n",
       "      <td>NaN</td>\n",
       "      <td>3.0</td>\n",
       "      <td>M</td>\n",
       "      <td>1.0</td>\n",
       "      <td>2</td>\n",
       "      <td>0.0</td>\n",
       "      <td>0.0</td>\n",
       "      <td>1.0</td>\n",
       "      <td>0.0</td>\n",
       "      <td>0.0</td>\n",
       "      <td>0.0</td>\n",
       "      <td>0.0</td>\n",
       "      <td>0.0</td>\n",
       "      <td>0.0</td>\n",
       "      <td>1.0</td>\n",
       "      <td>0.0</td>\n",
       "      <td>0.0</td>\n",
       "      <td>0.0</td>\n",
       "      <td>0.0</td>\n",
       "      <td>3</td>\n",
       "      <td>0</td>\n",
       "      <td>20</td>\n",
       "      <td>29</td>\n",
       "      <td>33</td>\n",
       "      <td>6</td>\n",
       "      <td>8</td>\n",
       "      <td>1</td>\n",
       "      <td>...</td>\n",
       "      <td>9409.0</td>\n",
       "      <td>9407.0</td>\n",
       "      <td>9406.0</td>\n",
       "      <td>NaN</td>\n",
       "      <td>NaN</td>\n",
       "      <td>NaN</td>\n",
       "      <td>NaN</td>\n",
       "      <td>NaN</td>\n",
       "      <td>NaN</td>\n",
       "      <td>NaN</td>\n",
       "      <td>NaN</td>\n",
       "      <td>NaN</td>\n",
       "      <td>11.0</td>\n",
       "      <td>NaN</td>\n",
       "      <td>9.0</td>\n",
       "      <td>NaN</td>\n",
       "      <td>9.0</td>\n",
       "      <td>NaN</td>\n",
       "      <td>8.0</td>\n",
       "      <td>NaN</td>\n",
       "      <td>NaN</td>\n",
       "      <td>NaN</td>\n",
       "      <td>8.0</td>\n",
       "      <td>7.0</td>\n",
       "      <td>6.0</td>\n",
       "      <td>202.0</td>\n",
       "      <td>27</td>\n",
       "      <td>14</td>\n",
       "      <td>2.0</td>\n",
       "      <td>9111</td>\n",
       "      <td>16.0</td>\n",
       "      <td>9207</td>\n",
       "      <td>5.0</td>\n",
       "      <td>9512</td>\n",
       "      <td>9001</td>\n",
       "      <td>9101.0</td>\n",
       "      <td>12.0</td>\n",
       "      <td>7.481481</td>\n",
       "      <td>15078</td>\n",
       "      <td>0</td>\n",
       "      <td>0.0</td>\n",
       "      <td>1</td>\n",
       "      <td>L</td>\n",
       "      <td>4</td>\n",
       "      <td>E</td>\n",
       "      <td>X</td>\n",
       "      <td>X</td>\n",
       "      <td>X</td>\n",
       "      <td>60.0</td>\n",
       "      <td>C</td>\n",
       "    </tr>\n",
       "  </tbody>\n",
       "</table>\n",
       "<p>3 rows × 481 columns</p>\n",
       "</div>"
      ],
      "text/plain": [
       "   ODATEDW OSOURCE  TCODE STATE    ZIP MAILCODE PVASTATE   DOB NOEXCH  \\\n",
       "0     8901     GRI      0    IL  61081                    3712      0   \n",
       "1     9401     BOA      1    CA  91326                    5202      0   \n",
       "2     9001     AMH      1    NC  27017                       0      0   \n",
       "\n",
       "  RECINHSE RECP3 RECPGVG RECSWEEP MDMAUD DOMAIN CLUSTER   AGE AGEFLAG  \\\n",
       "0                                   XXXX     T2      36  60.0           \n",
       "1                                   XXXX     S1      14  46.0       E   \n",
       "2                                   XXXX     R2      43   NaN           \n",
       "\n",
       "  HOMEOWNR CHILD03 CHILD07 CHILD12 CHILD18  NUMCHLD  INCOME GENDER  WEALTH1  \\\n",
       "0                                               NaN     NaN      F      NaN   \n",
       "1        H                               M      1.0     6.0      M      9.0   \n",
       "2        U                                      NaN     3.0      M      1.0   \n",
       "\n",
       "   HIT  MBCRAFT  MBGARDEN  MBBOOKS  MBCOLECT  MAGFAML  MAGFEM  MAGMALE  \\\n",
       "0    0      NaN       NaN      NaN       NaN      NaN     NaN      NaN   \n",
       "1   16      0.0       0.0      3.0       1.0      1.0     1.0      0.0   \n",
       "2    2      0.0       0.0      1.0       0.0      0.0     0.0      0.0   \n",
       "\n",
       "   PUBGARDN  PUBCULIN  PUBHLTH  PUBDOITY  PUBNEWFN  PUBPHOTO  PUBOPP DATASRCE  \\\n",
       "0       NaN       NaN      NaN       NaN       NaN       NaN     NaN            \n",
       "1       0.0       0.0      2.0       0.0       3.0       0.0     0.0        3   \n",
       "2       0.0       0.0      1.0       0.0       0.0       0.0     0.0        3   \n",
       "\n",
       "   MALEMILI  MALEVET  VIETVETS  WWIIVETS  LOCALGOV  STATEGOV  FEDGOV  ...  \\\n",
       "0         0       39        34        18        10         2       1  ...   \n",
       "1         0       15        55        11         6         2       1  ...   \n",
       "2         0       20        29        33         6         8       1  ...   \n",
       "\n",
       "  RDATE_22 RDATE_23 RDATE_24  RAMNT_3 RAMNT_4 RAMNT_5 RAMNT_6 RAMNT_7 RAMNT_8  \\\n",
       "0      NaN   9408.0   9406.0      NaN     NaN     NaN     NaN     NaN     NaN   \n",
       "1      NaN      NaN      NaN      NaN     NaN     NaN     NaN     NaN     NaN   \n",
       "2   9409.0   9407.0   9406.0      NaN     NaN     NaN     NaN     NaN     NaN   \n",
       "\n",
       "  RAMNT_9 RAMNT_10 RAMNT_11 RAMNT_12 RAMNT_13 RAMNT_14 RAMNT_15 RAMNT_16  \\\n",
       "0     NaN     10.0      NaN      NaN      NaN     10.0     11.0     11.0   \n",
       "1    25.0      NaN      NaN      NaN      NaN      NaN      NaN     12.0   \n",
       "2     NaN      NaN      NaN     11.0      NaN      9.0      NaN      9.0   \n",
       "\n",
       "  RAMNT_17 RAMNT_18 RAMNT_19 RAMNT_20 RAMNT_21 RAMNT_22 RAMNT_23 RAMNT_24  \\\n",
       "0     11.0      NaN      NaN      NaN      NaN      NaN     11.0      9.0   \n",
       "1      NaN      NaN      NaN      NaN      NaN      NaN      NaN      NaN   \n",
       "2      NaN      8.0      NaN      NaN      NaN      8.0      7.0      6.0   \n",
       "\n",
       "   RAMNTALL  NGIFTALL  CARDGIFT  MINRAMNT  MINRDATE  MAXRAMNT  MAXRDATE  \\\n",
       "0     240.0        31        14       5.0      9208      12.0      9402   \n",
       "1      47.0         3         1      10.0      9310      25.0      9512   \n",
       "2     202.0        27        14       2.0      9111      16.0      9207   \n",
       "\n",
       "   LASTGIFT  LASTDATE  FISTDATE  NEXTDATE  TIMELAG    AVGGIFT  CONTROLN  \\\n",
       "0      10.0      9512      8911    9003.0      4.0   7.741935     95515   \n",
       "1      25.0      9512      9310    9504.0     18.0  15.666667    148535   \n",
       "2       5.0      9512      9001    9101.0     12.0   7.481481     15078   \n",
       "\n",
       "   TARGET_B  TARGET_D  HPHONE_D  RFA_2R  RFA_2F  RFA_2A  MDMAUD_R  MDMAUD_F  \\\n",
       "0         0       0.0         0       L       4       E         X         X   \n",
       "1         0       0.0         0       L       2       G         X         X   \n",
       "2         0       0.0         1       L       4       E         X         X   \n",
       "\n",
       "   MDMAUD_A  CLUSTER2  GEOCODE2  \n",
       "0         X      39.0         C  \n",
       "1         X       1.0         A  \n",
       "2         X      60.0         C  \n",
       "\n",
       "[3 rows x 481 columns]"
      ]
     },
     "execution_count": 3,
     "metadata": {},
     "output_type": "execute_result"
    }
   ],
   "source": [
    "df.head(3)"
   ]
  },
  {
   "cell_type": "markdown",
   "id": "ae3c9d7b",
   "metadata": {},
   "source": [
    "# Data Cleaning"
   ]
  },
  {
   "cell_type": "markdown",
   "id": "746afb4b",
   "metadata": {},
   "source": [
    "- create a list to collect features that we want want to drop"
   ]
  },
  {
   "cell_type": "code",
   "execution_count": 4,
   "id": "7cd48fe6",
   "metadata": {},
   "outputs": [],
   "source": [
    "drop_list = []"
   ]
  },
  {
   "cell_type": "markdown",
   "id": "b5247a41",
   "metadata": {},
   "source": [
    "## Null Values Check"
   ]
  },
  {
   "cell_type": "code",
   "execution_count": 5,
   "id": "a87c3b22",
   "metadata": {},
   "outputs": [
    {
     "name": "stdout",
     "output_type": "stream",
     "text": [
      "features with null values:  92\n",
      "Features with null values > 80%:  33\n"
     ]
    },
    {
     "data": {
      "text/html": [
       "<div>\n",
       "<style scoped>\n",
       "    .dataframe tbody tr th:only-of-type {\n",
       "        vertical-align: middle;\n",
       "    }\n",
       "\n",
       "    .dataframe tbody tr th {\n",
       "        vertical-align: top;\n",
       "    }\n",
       "\n",
       "    .dataframe thead th {\n",
       "        text-align: right;\n",
       "    }\n",
       "</style>\n",
       "<table border=\"1\" class=\"dataframe\">\n",
       "  <thead>\n",
       "    <tr style=\"text-align: right;\">\n",
       "      <th></th>\n",
       "      <th>nan_percent</th>\n",
       "    </tr>\n",
       "  </thead>\n",
       "  <tbody>\n",
       "    <tr>\n",
       "      <th>NUMCHLD</th>\n",
       "      <td>87.018404</td>\n",
       "    </tr>\n",
       "    <tr>\n",
       "      <th>RDATE_3</th>\n",
       "      <td>99.746363</td>\n",
       "    </tr>\n",
       "    <tr>\n",
       "      <th>RDATE_4</th>\n",
       "      <td>99.705488</td>\n",
       "    </tr>\n",
       "    <tr>\n",
       "      <th>RDATE_5</th>\n",
       "      <td>99.990567</td>\n",
       "    </tr>\n",
       "    <tr>\n",
       "      <th>RDATE_6</th>\n",
       "      <td>99.186685</td>\n",
       "    </tr>\n",
       "    <tr>\n",
       "      <th>RDATE_7</th>\n",
       "      <td>90.677273</td>\n",
       "    </tr>\n",
       "    <tr>\n",
       "      <th>RDATE_9</th>\n",
       "      <td>82.461326</td>\n",
       "    </tr>\n",
       "    <tr>\n",
       "      <th>RDATE_10</th>\n",
       "      <td>89.035970</td>\n",
       "    </tr>\n",
       "    <tr>\n",
       "      <th>RDATE_11</th>\n",
       "      <td>84.551209</td>\n",
       "    </tr>\n",
       "    <tr>\n",
       "      <th>RDATE_13</th>\n",
       "      <td>87.160944</td>\n",
       "    </tr>\n",
       "    <tr>\n",
       "      <th>RDATE_15</th>\n",
       "      <td>92.388798</td>\n",
       "    </tr>\n",
       "    <tr>\n",
       "      <th>RDATE_17</th>\n",
       "      <td>90.146942</td>\n",
       "    </tr>\n",
       "    <tr>\n",
       "      <th>RDATE_19</th>\n",
       "      <td>83.359535</td>\n",
       "    </tr>\n",
       "    <tr>\n",
       "      <th>RDATE_20</th>\n",
       "      <td>91.732696</td>\n",
       "    </tr>\n",
       "    <tr>\n",
       "      <th>RDATE_21</th>\n",
       "      <td>90.029556</td>\n",
       "    </tr>\n",
       "    <tr>\n",
       "      <th>RDATE_23</th>\n",
       "      <td>91.763091</td>\n",
       "    </tr>\n",
       "    <tr>\n",
       "      <th>RDATE_24</th>\n",
       "      <td>81.409047</td>\n",
       "    </tr>\n",
       "    <tr>\n",
       "      <th>RAMNT_3</th>\n",
       "      <td>99.746363</td>\n",
       "    </tr>\n",
       "    <tr>\n",
       "      <th>RAMNT_4</th>\n",
       "      <td>99.705488</td>\n",
       "    </tr>\n",
       "    <tr>\n",
       "      <th>RAMNT_5</th>\n",
       "      <td>99.990567</td>\n",
       "    </tr>\n",
       "    <tr>\n",
       "      <th>RAMNT_6</th>\n",
       "      <td>99.186685</td>\n",
       "    </tr>\n",
       "    <tr>\n",
       "      <th>RAMNT_7</th>\n",
       "      <td>90.677273</td>\n",
       "    </tr>\n",
       "    <tr>\n",
       "      <th>RAMNT_9</th>\n",
       "      <td>82.461326</td>\n",
       "    </tr>\n",
       "    <tr>\n",
       "      <th>RAMNT_10</th>\n",
       "      <td>89.035970</td>\n",
       "    </tr>\n",
       "    <tr>\n",
       "      <th>RAMNT_11</th>\n",
       "      <td>84.551209</td>\n",
       "    </tr>\n",
       "    <tr>\n",
       "      <th>RAMNT_13</th>\n",
       "      <td>87.160944</td>\n",
       "    </tr>\n",
       "    <tr>\n",
       "      <th>RAMNT_15</th>\n",
       "      <td>92.388798</td>\n",
       "    </tr>\n",
       "    <tr>\n",
       "      <th>RAMNT_17</th>\n",
       "      <td>90.146942</td>\n",
       "    </tr>\n",
       "    <tr>\n",
       "      <th>RAMNT_19</th>\n",
       "      <td>83.359535</td>\n",
       "    </tr>\n",
       "    <tr>\n",
       "      <th>RAMNT_20</th>\n",
       "      <td>91.732696</td>\n",
       "    </tr>\n",
       "    <tr>\n",
       "      <th>RAMNT_21</th>\n",
       "      <td>90.029556</td>\n",
       "    </tr>\n",
       "    <tr>\n",
       "      <th>RAMNT_23</th>\n",
       "      <td>91.763091</td>\n",
       "    </tr>\n",
       "    <tr>\n",
       "      <th>RAMNT_24</th>\n",
       "      <td>81.409047</td>\n",
       "    </tr>\n",
       "  </tbody>\n",
       "</table>\n",
       "</div>"
      ],
      "text/plain": [
       "          nan_percent\n",
       "NUMCHLD     87.018404\n",
       "RDATE_3     99.746363\n",
       "RDATE_4     99.705488\n",
       "RDATE_5     99.990567\n",
       "RDATE_6     99.186685\n",
       "RDATE_7     90.677273\n",
       "RDATE_9     82.461326\n",
       "RDATE_10    89.035970\n",
       "RDATE_11    84.551209\n",
       "RDATE_13    87.160944\n",
       "RDATE_15    92.388798\n",
       "RDATE_17    90.146942\n",
       "RDATE_19    83.359535\n",
       "RDATE_20    91.732696\n",
       "RDATE_21    90.029556\n",
       "RDATE_23    91.763091\n",
       "RDATE_24    81.409047\n",
       "RAMNT_3     99.746363\n",
       "RAMNT_4     99.705488\n",
       "RAMNT_5     99.990567\n",
       "RAMNT_6     99.186685\n",
       "RAMNT_7     90.677273\n",
       "RAMNT_9     82.461326\n",
       "RAMNT_10    89.035970\n",
       "RAMNT_11    84.551209\n",
       "RAMNT_13    87.160944\n",
       "RAMNT_15    92.388798\n",
       "RAMNT_17    90.146942\n",
       "RAMNT_19    83.359535\n",
       "RAMNT_20    91.732696\n",
       "RAMNT_21    90.029556\n",
       "RAMNT_23    91.763091\n",
       "RAMNT_24    81.409047"
      ]
     },
     "execution_count": 5,
     "metadata": {},
     "output_type": "execute_result"
    }
   ],
   "source": [
    "null_check = pd.DataFrame(df.isna().sum() / df.shape[0] * 100, columns=['nan_percent'])\n",
    "print('features with null values: ', null_check.query('nan_percent > 0').shape[0])\n",
    "print('Features with null values > 80%: ', null_check.query('nan_percent > 80').shape[0])\n",
    "null_check.query('nan_percent > 80')"
   ]
  },
  {
   "cell_type": "markdown",
   "id": "a6031c56",
   "metadata": {},
   "source": [
    "- add the features with more than 80% null values to drop list\n",
    "- apply drop list to dataframe"
   ]
  },
  {
   "cell_type": "code",
   "execution_count": 6,
   "id": "cfa47371",
   "metadata": {},
   "outputs": [
    {
     "data": {
      "text/plain": [
       "33"
      ]
     },
     "execution_count": 6,
     "metadata": {},
     "output_type": "execute_result"
    }
   ],
   "source": [
    "drop_list.extend(null_check.query('nan_percent > 80').index)\n",
    "len(drop_list)"
   ]
  },
  {
   "cell_type": "code",
   "execution_count": 7,
   "id": "88f1e216",
   "metadata": {},
   "outputs": [
    {
     "data": {
      "text/plain": [
       "(95412, 448)"
      ]
     },
     "execution_count": 7,
     "metadata": {},
     "output_type": "execute_result"
    }
   ],
   "source": [
    "df.drop(columns=drop_list, inplace=True)\n",
    "df.shape"
   ]
  },
  {
   "cell_type": "markdown",
   "id": "248afc5e",
   "metadata": {},
   "source": [
    "## Check selected categorical features"
   ]
  },
  {
   "cell_type": "markdown",
   "id": "9d31d27d",
   "metadata": {},
   "source": [
    "### OSOURCE and ZIP"
   ]
  },
  {
   "cell_type": "code",
   "execution_count": 8,
   "id": "912d9efb",
   "metadata": {},
   "outputs": [
    {
     "data": {
      "text/plain": [
       "0    GRI\n",
       "1    BOA\n",
       "2    AMH\n",
       "Name: OSOURCE, dtype: object"
      ]
     },
     "execution_count": 8,
     "metadata": {},
     "output_type": "execute_result"
    }
   ],
   "source": [
    "df['OSOURCE'].head(3)"
   ]
  },
  {
   "cell_type": "code",
   "execution_count": 9,
   "id": "a55f9727",
   "metadata": {},
   "outputs": [
    {
     "name": "stdout",
     "output_type": "stream",
     "text": [
      "Amount of unique values in OSOURCE:  896\n"
     ]
    }
   ],
   "source": [
    "print('Amount of unique values in OSOURCE: ', len(df['OSOURCE'].unique()))"
   ]
  },
  {
   "cell_type": "markdown",
   "id": "d448dd4a",
   "metadata": {},
   "source": [
    "### Enrich ZIP data with longitude and latitude \n",
    "- could be used later to make sure that deographical data is included in model"
   ]
  },
  {
   "cell_type": "code",
   "execution_count": 10,
   "id": "e07b5853",
   "metadata": {},
   "outputs": [
    {
     "name": "stdout",
     "output_type": "stream",
     "text": [
      "(41470, 14)\n"
     ]
    }
   ],
   "source": [
    "df_geo = pd.read_excel('US_zip_lon_lat.xlsx')\n",
    "df_geo.columns = [col.replace(' ', '_') for col in df_geo.columns]\n",
    "print(df_geo.shape)"
   ]
  },
  {
   "cell_type": "code",
   "execution_count": 11,
   "id": "3be2eecf",
   "metadata": {},
   "outputs": [
    {
     "data": {
      "text/plain": [
       "0    61081\n",
       "1    91326\n",
       "2    27017\n",
       "Name: ZIP, dtype: object"
      ]
     },
     "execution_count": 11,
     "metadata": {},
     "output_type": "execute_result"
    }
   ],
   "source": [
    "df['ZIP'].head(3)"
   ]
  },
  {
   "cell_type": "code",
   "execution_count": 12,
   "id": "f40f71ec",
   "metadata": {},
   "outputs": [
    {
     "name": "stdout",
     "output_type": "stream",
     "text": [
      "Amount of unique values in ZIP:  896\n"
     ]
    }
   ],
   "source": [
    "print('Amount of unique values in ZIP: ', len(df['OSOURCE'].unique()))"
   ]
  },
  {
   "cell_type": "code",
   "execution_count": 13,
   "id": "7d0543ee",
   "metadata": {},
   "outputs": [],
   "source": [
    "df_zip = pd.DataFrame(df['ZIP'])\n",
    "df_zip['lon'] = 0\n",
    "df_zip['lat'] = 0"
   ]
  },
  {
   "cell_type": "code",
   "execution_count": 14,
   "id": "787f36a8",
   "metadata": {},
   "outputs": [
    {
     "data": {
      "text/html": [
       "<div>\n",
       "<style scoped>\n",
       "    .dataframe tbody tr th:only-of-type {\n",
       "        vertical-align: middle;\n",
       "    }\n",
       "\n",
       "    .dataframe tbody tr th {\n",
       "        vertical-align: top;\n",
       "    }\n",
       "\n",
       "    .dataframe thead th {\n",
       "        text-align: right;\n",
       "    }\n",
       "</style>\n",
       "<table border=\"1\" class=\"dataframe\">\n",
       "  <thead>\n",
       "    <tr style=\"text-align: right;\">\n",
       "      <th></th>\n",
       "      <th>ZIP</th>\n",
       "      <th>lon</th>\n",
       "      <th>lat</th>\n",
       "    </tr>\n",
       "  </thead>\n",
       "  <tbody>\n",
       "    <tr>\n",
       "      <th>0</th>\n",
       "      <td>61081</td>\n",
       "      <td>0</td>\n",
       "      <td>0</td>\n",
       "    </tr>\n",
       "    <tr>\n",
       "      <th>1</th>\n",
       "      <td>91326</td>\n",
       "      <td>0</td>\n",
       "      <td>0</td>\n",
       "    </tr>\n",
       "  </tbody>\n",
       "</table>\n",
       "</div>"
      ],
      "text/plain": [
       "     ZIP  lon  lat\n",
       "0  61081    0    0\n",
       "1  91326    0    0"
      ]
     },
     "execution_count": 14,
     "metadata": {},
     "output_type": "execute_result"
    }
   ],
   "source": [
    "df_zip.head(2)"
   ]
  },
  {
   "cell_type": "code",
   "execution_count": 15,
   "id": "ad3655f3",
   "metadata": {},
   "outputs": [],
   "source": [
    "# add lon and lat to translation table\n",
    "for i, row in df_zip.iterrows():\n",
    "    zip_clean = row['ZIP'].replace('-', '')\n",
    "    geo_data = df_geo[df_geo['postal_code'] == int(zip_clean)]\n",
    "    try:\n",
    "        df_zip.at[i,'lon'] = float(list(geo_data['longitude'])[0])\n",
    "        df_zip.at[i,'lat'] = float(list(geo_data['latitude'])[0])\n",
    "       \n",
    "    except TypeError:\n",
    "        df_zip.at[i,'lon'] = np.nan\n",
    "        df_zip.at[i,'lat'] = np.nan\n",
    "    except IndexError:\n",
    "        df_zip.at[i,'lon'] = np.nan\n",
    "        df_zip.at[i,'lat'] = np.nan"
   ]
  },
  {
   "cell_type": "code",
   "execution_count": 16,
   "id": "35fbb90f",
   "metadata": {},
   "outputs": [
    {
     "data": {
      "text/plain": [
       "ZIP      0\n",
       "lon    344\n",
       "lat    344\n",
       "dtype: int64"
      ]
     },
     "execution_count": 16,
     "metadata": {},
     "output_type": "execute_result"
    }
   ],
   "source": [
    "df_zip.isna().sum()"
   ]
  },
  {
   "cell_type": "code",
   "execution_count": 17,
   "id": "c6ff769b",
   "metadata": {},
   "outputs": [
    {
     "data": {
      "text/html": [
       "<div>\n",
       "<style scoped>\n",
       "    .dataframe tbody tr th:only-of-type {\n",
       "        vertical-align: middle;\n",
       "    }\n",
       "\n",
       "    .dataframe tbody tr th {\n",
       "        vertical-align: top;\n",
       "    }\n",
       "\n",
       "    .dataframe thead th {\n",
       "        text-align: right;\n",
       "    }\n",
       "</style>\n",
       "<table border=\"1\" class=\"dataframe\">\n",
       "  <thead>\n",
       "    <tr style=\"text-align: right;\">\n",
       "      <th></th>\n",
       "      <th>ZIP</th>\n",
       "      <th>lon</th>\n",
       "      <th>lat</th>\n",
       "      <th>TARGET_D</th>\n",
       "      <th>TARGET_B</th>\n",
       "    </tr>\n",
       "  </thead>\n",
       "  <tbody>\n",
       "    <tr>\n",
       "      <th>0</th>\n",
       "      <td>61081</td>\n",
       "      <td>-897054.0</td>\n",
       "      <td>418055.0</td>\n",
       "      <td>0.0</td>\n",
       "      <td>0</td>\n",
       "    </tr>\n",
       "    <tr>\n",
       "      <th>1</th>\n",
       "      <td>91326</td>\n",
       "      <td>-118582.0</td>\n",
       "      <td>342619.0</td>\n",
       "      <td>0.0</td>\n",
       "      <td>0</td>\n",
       "    </tr>\n",
       "    <tr>\n",
       "      <th>2</th>\n",
       "      <td>27017</td>\n",
       "      <td>-807101.0</td>\n",
       "      <td>363698.0</td>\n",
       "      <td>0.0</td>\n",
       "      <td>0</td>\n",
       "    </tr>\n",
       "  </tbody>\n",
       "</table>\n",
       "</div>"
      ],
      "text/plain": [
       "     ZIP       lon       lat  TARGET_D  TARGET_B\n",
       "0  61081 -897054.0  418055.0       0.0         0\n",
       "1  91326 -118582.0  342619.0       0.0         0\n",
       "2  27017 -807101.0  363698.0       0.0         0"
      ]
     },
     "execution_count": 17,
     "metadata": {},
     "output_type": "execute_result"
    }
   ],
   "source": [
    "# add target \n",
    "df_zip['TARGET_D'] = df['TARGET_D']\n",
    "df_zip['TARGET_B'] = df['TARGET_B']\n",
    "df_zip.head(3)"
   ]
  },
  {
   "cell_type": "code",
   "execution_count": 18,
   "id": "de971653",
   "metadata": {},
   "outputs": [],
   "source": [
    "# drop nans\n",
    "df_zip.dropna(inplace=True);"
   ]
  },
  {
   "cell_type": "code",
   "execution_count": 19,
   "id": "27f69ba4",
   "metadata": {},
   "outputs": [
    {
     "data": {
      "text/plain": [
       "ZIP         0\n",
       "lon         0\n",
       "lat         0\n",
       "TARGET_D    0\n",
       "TARGET_B    0\n",
       "dtype: int64"
      ]
     },
     "execution_count": 19,
     "metadata": {},
     "output_type": "execute_result"
    }
   ],
   "source": [
    "df_zip.isna().sum()"
   ]
  },
  {
   "cell_type": "code",
   "execution_count": 20,
   "id": "ea216a64",
   "metadata": {},
   "outputs": [
    {
     "data": {
      "text/html": [
       "<div>\n",
       "<style scoped>\n",
       "    .dataframe tbody tr th:only-of-type {\n",
       "        vertical-align: middle;\n",
       "    }\n",
       "\n",
       "    .dataframe tbody tr th {\n",
       "        vertical-align: top;\n",
       "    }\n",
       "\n",
       "    .dataframe thead th {\n",
       "        text-align: right;\n",
       "    }\n",
       "</style>\n",
       "<table border=\"1\" class=\"dataframe\">\n",
       "  <thead>\n",
       "    <tr style=\"text-align: right;\">\n",
       "      <th></th>\n",
       "      <th>lon</th>\n",
       "      <th>lat</th>\n",
       "      <th>TARGET_D</th>\n",
       "      <th>TARGET_B</th>\n",
       "    </tr>\n",
       "  </thead>\n",
       "  <tbody>\n",
       "    <tr>\n",
       "      <th>lon</th>\n",
       "      <td>1.000000</td>\n",
       "      <td>-0.072835</td>\n",
       "      <td>-0.013069</td>\n",
       "      <td>-0.010779</td>\n",
       "    </tr>\n",
       "    <tr>\n",
       "      <th>lat</th>\n",
       "      <td>-0.072835</td>\n",
       "      <td>1.000000</td>\n",
       "      <td>0.000899</td>\n",
       "      <td>0.000988</td>\n",
       "    </tr>\n",
       "    <tr>\n",
       "      <th>TARGET_D</th>\n",
       "      <td>-0.013069</td>\n",
       "      <td>0.000899</td>\n",
       "      <td>1.000000</td>\n",
       "      <td>0.774086</td>\n",
       "    </tr>\n",
       "    <tr>\n",
       "      <th>TARGET_B</th>\n",
       "      <td>-0.010779</td>\n",
       "      <td>0.000988</td>\n",
       "      <td>0.774086</td>\n",
       "      <td>1.000000</td>\n",
       "    </tr>\n",
       "  </tbody>\n",
       "</table>\n",
       "</div>"
      ],
      "text/plain": [
       "               lon       lat  TARGET_D  TARGET_B\n",
       "lon       1.000000 -0.072835 -0.013069 -0.010779\n",
       "lat      -0.072835  1.000000  0.000899  0.000988\n",
       "TARGET_D -0.013069  0.000899  1.000000  0.774086\n",
       "TARGET_B -0.010779  0.000988  0.774086  1.000000"
      ]
     },
     "execution_count": 20,
     "metadata": {},
     "output_type": "execute_result"
    }
   ],
   "source": [
    "df_zip.corr()"
   ]
  },
  {
   "cell_type": "markdown",
   "id": "4c51cdb4",
   "metadata": {},
   "source": [
    "##### lon and lat data did not really help to establish correlation to target"
   ]
  },
  {
   "cell_type": "markdown",
   "id": "9a119563",
   "metadata": {},
   "source": [
    "- add OSOURCE and ZIP to drop list"
   ]
  },
  {
   "cell_type": "code",
   "execution_count": 21,
   "id": "75f43a01",
   "metadata": {},
   "outputs": [],
   "source": [
    "drop_list.extend(['OSOURCE', 'ZIP'])"
   ]
  },
  {
   "cell_type": "markdown",
   "id": "5d2d7c96",
   "metadata": {},
   "source": [
    "### GENDER"
   ]
  },
  {
   "cell_type": "code",
   "execution_count": 22,
   "id": "3df50d8b",
   "metadata": {},
   "outputs": [
    {
     "data": {
      "text/plain": [
       "0    F\n",
       "1    M\n",
       "2    M\n",
       "Name: GENDER, dtype: object"
      ]
     },
     "execution_count": 22,
     "metadata": {},
     "output_type": "execute_result"
    }
   ],
   "source": [
    "df['GENDER'].head(3)"
   ]
  },
  {
   "cell_type": "code",
   "execution_count": 23,
   "id": "823e8e49",
   "metadata": {},
   "outputs": [
    {
     "name": "stdout",
     "output_type": "stream",
     "text": [
      "Amount of unique values in GENDER:  7\n",
      "['F' 'M' ' ' 'C' 'U' 'J' 'A']\n"
     ]
    }
   ],
   "source": [
    "print('Amount of unique values in GENDER: ', len(df['GENDER'].unique()))\n",
    "print(df['GENDER'].unique())"
   ]
  },
  {
   "cell_type": "code",
   "execution_count": 24,
   "id": "a2fe0d9c",
   "metadata": {},
   "outputs": [
    {
     "data": {
      "text/plain": [
       "F    51277\n",
       "M    39094\n",
       "      2957\n",
       "U     1715\n",
       "J      365\n",
       "C        2\n",
       "A        2\n",
       "Name: GENDER, dtype: int64"
      ]
     },
     "execution_count": 24,
     "metadata": {},
     "output_type": "execute_result"
    }
   ],
   "source": [
    "df['GENDER'].value_counts()"
   ]
  },
  {
   "cell_type": "markdown",
   "id": "9c5d0dbd",
   "metadata": {},
   "source": [
    "- In GENDER we see that the most frequent category is F\n",
    "- we will replace the empty / non values with this "
   ]
  },
  {
   "cell_type": "code",
   "execution_count": 25,
   "id": "2af2e9cd",
   "metadata": {},
   "outputs": [
    {
     "data": {
      "text/plain": [
       "F        54234\n",
       "M        39094\n",
       "other     2084\n",
       "Name: GENDER, dtype: int64"
      ]
     },
     "execution_count": 25,
     "metadata": {},
     "output_type": "execute_result"
    }
   ],
   "source": [
    "df['GENDER'].replace(r'^\\s+$',  df['GENDER'].mode()[0], regex=True, inplace=True)\n",
    "df['GENDER'] = ['other' if g != 'F' and g != 'M' else g for g in df['GENDER'] ]\n",
    "df['GENDER'].value_counts()"
   ]
  },
  {
   "cell_type": "markdown",
   "id": "b5da564b",
   "metadata": {},
   "source": [
    "### Further investigation of numerical columns"
   ]
  },
  {
   "cell_type": "code",
   "execution_count": 26,
   "id": "c86fa252",
   "metadata": {},
   "outputs": [
    {
     "name": "stdout",
     "output_type": "stream",
     "text": [
      "remaining cols with nulls  (58, 1)\n"
     ]
    }
   ],
   "source": [
    "numericals_null_check = pd.DataFrame(df.select_dtypes('number').isna().sum(), columns=['nulls'])\n",
    "print('remaining cols with nulls ', numericals_null_check.query('nulls > 0').shape)"
   ]
  },
  {
   "cell_type": "code",
   "execution_count": 27,
   "id": "1f5594c1",
   "metadata": {},
   "outputs": [
    {
     "data": {
      "text/html": [
       "<div>\n",
       "<style scoped>\n",
       "    .dataframe tbody tr th:only-of-type {\n",
       "        vertical-align: middle;\n",
       "    }\n",
       "\n",
       "    .dataframe tbody tr th {\n",
       "        vertical-align: top;\n",
       "    }\n",
       "\n",
       "    .dataframe thead th {\n",
       "        text-align: right;\n",
       "    }\n",
       "</style>\n",
       "<table border=\"1\" class=\"dataframe\">\n",
       "  <thead>\n",
       "    <tr style=\"text-align: right;\">\n",
       "      <th></th>\n",
       "      <th>nulls</th>\n",
       "    </tr>\n",
       "  </thead>\n",
       "  <tbody>\n",
       "    <tr>\n",
       "      <th>RDATE_18</th>\n",
       "      <td>75634</td>\n",
       "    </tr>\n",
       "    <tr>\n",
       "      <th>RAMNT_18</th>\n",
       "      <td>75634</td>\n",
       "    </tr>\n",
       "    <tr>\n",
       "      <th>RAMNT_22</th>\n",
       "      <td>74539</td>\n",
       "    </tr>\n",
       "    <tr>\n",
       "      <th>RDATE_22</th>\n",
       "      <td>74539</td>\n",
       "    </tr>\n",
       "    <tr>\n",
       "      <th>RDATE_8</th>\n",
       "      <td>73940</td>\n",
       "    </tr>\n",
       "    <tr>\n",
       "      <th>RAMNT_8</th>\n",
       "      <td>73940</td>\n",
       "    </tr>\n",
       "    <tr>\n",
       "      <th>RDATE_14</th>\n",
       "      <td>72095</td>\n",
       "    </tr>\n",
       "    <tr>\n",
       "      <th>RAMNT_14</th>\n",
       "      <td>72095</td>\n",
       "    </tr>\n",
       "    <tr>\n",
       "      <th>RAMNT_12</th>\n",
       "      <td>69712</td>\n",
       "    </tr>\n",
       "    <tr>\n",
       "      <th>RDATE_12</th>\n",
       "      <td>69712</td>\n",
       "    </tr>\n",
       "  </tbody>\n",
       "</table>\n",
       "</div>"
      ],
      "text/plain": [
       "          nulls\n",
       "RDATE_18  75634\n",
       "RAMNT_18  75634\n",
       "RAMNT_22  74539\n",
       "RDATE_22  74539\n",
       "RDATE_8   73940\n",
       "RAMNT_8   73940\n",
       "RDATE_14  72095\n",
       "RAMNT_14  72095\n",
       "RAMNT_12  69712\n",
       "RDATE_12  69712"
      ]
     },
     "execution_count": 27,
     "metadata": {},
     "output_type": "execute_result"
    }
   ],
   "source": [
    "numericals_null_check.query('nulls > 0').sort_values(by='nulls', ascending=False).head(10)"
   ]
  },
  {
   "cell_type": "markdown",
   "id": "9eb24435",
   "metadata": {},
   "source": [
    "### Check for relationships between GEOCODE2, ADI, DMA and MSA"
   ]
  },
  {
   "cell_type": "markdown",
   "id": "575d2027",
   "metadata": {},
   "source": [
    "__GEOCODE2: County Size Code__\n",
    "\n",
    "- all American counties are categorized as ABCD Counties by Nielsen\n",
    "- ABCD Counties are based on the population totals of U.S. counties and their proximity to a metropolitan area or anchor city. Counties that fall in the A category are the largest by population while D counties are the smallest.\n",
    "\n",
    "<br>\n",
    "\n",
    "__ADI: ADI Code__\n",
    "\n",
    "- Area of Dominant Influence\n",
    "- is the geographical area or market accessed by a specific radio or television station. It is used by advertisers and rating companies to identify the station’s potential audience. This will help in determining how much the songwriter will be paid to broadcast on a given station.\n",
    "\n",
    "<br>\n",
    "\n",
    "__DMA: DMA Code__\n",
    "\n",
    "- A Designated Market Area (often referred to as DMA) is an advertising term that stands for different regions in the United States divided into separate marketing areas. There are 210 distinct regions and each Designated Market Area has a 3-digit numeric code (e.g. Los Angeles’ DMA code is 803).  Designated Market Area is also referred to as “market area”.\n",
    "\n",
    "- Originally a television advertising term, today marketers everywhere can use the Designated Market Area data for defining geographic areas. In online marketing, internet service providers (ISPs) provide companies with data on a user’s geographic location through IP addresses.\n",
    "<br>\n",
    "\n",
    "__MSA: MSA Code__\n",
    "\n",
    "\n",
    "- Metropolitan statistical areas (MSA) are delineated by the U.S. OMB as having at least one urbanized area with a minimum population of 50,000.\n",
    "\n",
    "- Metropolitan statistical area (MSA) is the formal definition of a region that consists of a city and surrounding communities that are linked by social and economic factors.\n",
    "<br>"
   ]
  },
  {
   "cell_type": "markdown",
   "id": "e912f68f",
   "metadata": {},
   "source": [
    "- since all of the 4 featurs are related to geography, the next step is to check the relations"
   ]
  },
  {
   "cell_type": "code",
   "execution_count": 28,
   "id": "9b57c4ca",
   "metadata": {},
   "outputs": [],
   "source": [
    "# create a new df with only the four features\n",
    "df_gadm = df[['GEOCODE2', 'ADI', 'DMA', 'MSA']]"
   ]
  },
  {
   "cell_type": "code",
   "execution_count": 29,
   "id": "f6069694",
   "metadata": {},
   "outputs": [
    {
     "data": {
      "text/html": [
       "<div>\n",
       "<style scoped>\n",
       "    .dataframe tbody tr th:only-of-type {\n",
       "        vertical-align: middle;\n",
       "    }\n",
       "\n",
       "    .dataframe tbody tr th {\n",
       "        vertical-align: top;\n",
       "    }\n",
       "\n",
       "    .dataframe thead th {\n",
       "        text-align: right;\n",
       "    }\n",
       "</style>\n",
       "<table border=\"1\" class=\"dataframe\">\n",
       "  <thead>\n",
       "    <tr style=\"text-align: right;\">\n",
       "      <th></th>\n",
       "      <th>GEOCODE2</th>\n",
       "      <th>ADI</th>\n",
       "      <th>DMA</th>\n",
       "      <th>MSA</th>\n",
       "    </tr>\n",
       "  </thead>\n",
       "  <tbody>\n",
       "    <tr>\n",
       "      <th>0</th>\n",
       "      <td>C</td>\n",
       "      <td>177.0</td>\n",
       "      <td>682.0</td>\n",
       "      <td>0.0</td>\n",
       "    </tr>\n",
       "    <tr>\n",
       "      <th>1</th>\n",
       "      <td>A</td>\n",
       "      <td>13.0</td>\n",
       "      <td>803.0</td>\n",
       "      <td>4480.0</td>\n",
       "    </tr>\n",
       "  </tbody>\n",
       "</table>\n",
       "</div>"
      ],
      "text/plain": [
       "  GEOCODE2    ADI    DMA     MSA\n",
       "0        C  177.0  682.0     0.0\n",
       "1        A   13.0  803.0  4480.0"
      ]
     },
     "execution_count": 29,
     "metadata": {},
     "output_type": "execute_result"
    }
   ],
   "source": [
    "df_gadm.head(2)"
   ]
  },
  {
   "cell_type": "code",
   "execution_count": 30,
   "id": "ef02276c",
   "metadata": {},
   "outputs": [
    {
     "data": {
      "text/plain": [
       "GEOCODE2    132\n",
       "ADI         132\n",
       "DMA         132\n",
       "MSA         132\n",
       "dtype: int64"
      ]
     },
     "execution_count": 30,
     "metadata": {},
     "output_type": "execute_result"
    }
   ],
   "source": [
    "df_gadm.isna().sum()"
   ]
  },
  {
   "cell_type": "code",
   "execution_count": 31,
   "id": "0bf21f90",
   "metadata": {},
   "outputs": [
    {
     "data": {
      "text/html": [
       "<div>\n",
       "<style scoped>\n",
       "    .dataframe tbody tr th:only-of-type {\n",
       "        vertical-align: middle;\n",
       "    }\n",
       "\n",
       "    .dataframe tbody tr th {\n",
       "        vertical-align: top;\n",
       "    }\n",
       "\n",
       "    .dataframe thead th {\n",
       "        text-align: right;\n",
       "    }\n",
       "</style>\n",
       "<table border=\"1\" class=\"dataframe\">\n",
       "  <thead>\n",
       "    <tr style=\"text-align: right;\">\n",
       "      <th></th>\n",
       "      <th>GEOCODE2</th>\n",
       "      <th>ADI</th>\n",
       "      <th>DMA</th>\n",
       "      <th>MSA</th>\n",
       "    </tr>\n",
       "  </thead>\n",
       "  <tbody>\n",
       "    <tr>\n",
       "      <th>183</th>\n",
       "      <td></td>\n",
       "      <td>0.0</td>\n",
       "      <td>0.0</td>\n",
       "      <td>0.0</td>\n",
       "    </tr>\n",
       "    <tr>\n",
       "      <th>262</th>\n",
       "      <td></td>\n",
       "      <td>0.0</td>\n",
       "      <td>0.0</td>\n",
       "      <td>0.0</td>\n",
       "    </tr>\n",
       "  </tbody>\n",
       "</table>\n",
       "</div>"
      ],
      "text/plain": [
       "    GEOCODE2  ADI  DMA  MSA\n",
       "183           0.0  0.0  0.0\n",
       "262           0.0  0.0  0.0"
      ]
     },
     "execution_count": 31,
     "metadata": {},
     "output_type": "execute_result"
    }
   ],
   "source": [
    "df_gadm.query('GEOCODE2 == \" \"').head(2)"
   ]
  },
  {
   "cell_type": "code",
   "execution_count": 32,
   "id": "6f8f569c",
   "metadata": {
    "scrolled": false
   },
   "outputs": [
    {
     "data": {
      "text/html": [
       "<div>\n",
       "<style scoped>\n",
       "    .dataframe tbody tr th:only-of-type {\n",
       "        vertical-align: middle;\n",
       "    }\n",
       "\n",
       "    .dataframe tbody tr th {\n",
       "        vertical-align: top;\n",
       "    }\n",
       "\n",
       "    .dataframe thead th {\n",
       "        text-align: right;\n",
       "    }\n",
       "</style>\n",
       "<table border=\"1\" class=\"dataframe\">\n",
       "  <thead>\n",
       "    <tr style=\"text-align: right;\">\n",
       "      <th></th>\n",
       "      <th>ADI</th>\n",
       "      <th>DMA</th>\n",
       "      <th>MSA</th>\n",
       "    </tr>\n",
       "    <tr>\n",
       "      <th>GEOCODE2</th>\n",
       "      <th></th>\n",
       "      <th></th>\n",
       "      <th></th>\n",
       "    </tr>\n",
       "  </thead>\n",
       "  <tbody>\n",
       "    <tr>\n",
       "      <th>A</th>\n",
       "      <td>13.0</td>\n",
       "      <td>803.0</td>\n",
       "      <td>4480.0</td>\n",
       "    </tr>\n",
       "    <tr>\n",
       "      <th>B</th>\n",
       "      <td>67.0</td>\n",
       "      <td>862.0</td>\n",
       "      <td>6440.0</td>\n",
       "    </tr>\n",
       "    <tr>\n",
       "      <th>C</th>\n",
       "      <td>105.0</td>\n",
       "      <td>819.0</td>\n",
       "      <td>0.0</td>\n",
       "    </tr>\n",
       "    <tr>\n",
       "      <th>D</th>\n",
       "      <td>107.0</td>\n",
       "      <td>613.0</td>\n",
       "      <td>0.0</td>\n",
       "    </tr>\n",
       "  </tbody>\n",
       "</table>\n",
       "</div>"
      ],
      "text/plain": [
       "            ADI    DMA     MSA\n",
       "GEOCODE2                      \n",
       "A          13.0  803.0  4480.0\n",
       "B          67.0  862.0  6440.0\n",
       "C         105.0  819.0     0.0\n",
       "D         107.0  613.0     0.0"
      ]
     },
     "execution_count": 32,
     "metadata": {},
     "output_type": "execute_result"
    }
   ],
   "source": [
    "\n",
    "geo_group = df_gadm.query('GEOCODE2 != \" \"').groupby('GEOCODE2').agg(pd.Series.mode)\n",
    "geo_group"
   ]
  },
  {
   "cell_type": "markdown",
   "id": "471f0aad",
   "metadata": {},
   "source": [
    "- The table above gives me the most occuring values (mode) based on GEOCODE2\n",
    "- strategy to clean columns:\n",
    "    - categorize geocode first and then take the respective mode values for the othe rfeaturs"
   ]
  },
  {
   "cell_type": "markdown",
   "id": "73c3dd2a",
   "metadata": {},
   "source": [
    "A County: account for more than 40% of households in the United States.\n",
    "\n",
    "B County: when combined, account for about 30% of all U.S. households.\n",
    "\n",
    "C County: account for more than 15% of households in the United States.\n",
    "\n",
    "D County: account 15% of all U.S. households.\n",
    "\n",
    "    \n",
    "source: https://www.investopedia.com/terms/a/abcd-counties.asp#:~:text=ABCD%20Counties%20are%20the%20way,broadly%20in%20advertising%20and%20media"
   ]
  },
  {
   "cell_type": "code",
   "execution_count": 33,
   "id": "9fb8a03f",
   "metadata": {},
   "outputs": [],
   "source": [
    "def prepare_geocode_index():\n",
    "    index_missing_geocode = df.index[df['GEOCODE2'].isna()].tolist()\n",
    "    np.random.shuffle(index_missing_geocode)\n",
    "\n",
    "    a = np.floor(len(index_missing_geocode) * 0.4)\n",
    "    b = np.ceil(len(index_missing_geocode) * 0.3)\n",
    "    c = np.ceil(len(index_missing_geocode) * 0.15)\n",
    "    d = np.ceil(len(index_missing_geocode) * 0.15)\n",
    "    \n",
    "    assert (a+b+c+d) == len(index_missing_geocode)\n",
    "\n",
    "    start_index = 0\n",
    "    index_list = []\n",
    "    \n",
    "    for el in map(int,[a, b, c, d]):\n",
    "        index_list.append(index_missing_geocode[start_index: start_index + el])\n",
    "        start_index += el\n",
    "    \n",
    "    return index_list\n",
    "\n",
    "\n",
    "def clean_geocode(l, s):\n",
    "    ind = list(s.index)\n",
    "    for i, el in enumerate(l):\n",
    "        df['GEOCODE2'].iloc[el] = ind[i]\n",
    "        df['ADI'].iloc[el] = s.iloc[i]['ADI']\n",
    "        df['DMA'].iloc[el] = s.iloc[i]['DMA']\n",
    "        df['MSA'].iloc[el] = s.iloc[i]['MSA']\n",
    "        \n",
    "clean_geocode(prepare_geocode_index(), geo_group)"
   ]
  },
  {
   "cell_type": "code",
   "execution_count": 34,
   "id": "16f831fe",
   "metadata": {},
   "outputs": [],
   "source": [
    "# check after filling values\n",
    "assert not df[['GEOCODE2', 'ADI', 'DMA', 'MSA']].isna().sum().any() != 0"
   ]
  },
  {
   "cell_type": "markdown",
   "id": "255a680c",
   "metadata": {},
   "source": [
    "### Check WEALTH1 feature"
   ]
  },
  {
   "cell_type": "code",
   "execution_count": 35,
   "id": "ebb710e1",
   "metadata": {},
   "outputs": [
    {
     "name": "stdout",
     "output_type": "stream",
     "text": [
      "amount of nulls in WEALTH1 feature:  44732\n",
      "amount of nulls in WEALTH1 where INCOME has a value:  23446\n",
      "amount of nulls in WEALTH1 where INCOME has also nulls:  21286\n",
      "unique values in WEALTH1:  [nan  9.  1.  4.  2.  6.  0.  5.  8.  3.  7.]\n",
      "unique values in INCOME:  [nan  6.  3.  1.  4.  2.  7.  5.]\n"
     ]
    }
   ],
   "source": [
    "print('amount of nulls in WEALTH1 feature: ', df['WEALTH1'].isna().sum())\n",
    "print('amount of nulls in WEALTH1 where INCOME has a value: ', df.query('not(INCOME.isna()) and WEALTH1.isna()').shape[0])\n",
    "print('amount of nulls in WEALTH1 where INCOME has also nulls: ', df.query('INCOME.isna() and WEALTH1.isna()').shape[0])\n",
    "print('unique values in WEALTH1: ', df['WEALTH1'].unique())\n",
    "print('unique values in INCOME: ', df['INCOME'].unique())"
   ]
  },
  {
   "cell_type": "markdown",
   "id": "382216bb",
   "metadata": {},
   "source": [
    "Strategy:\n",
    "\n",
    "- for all samples where INCOME has a value and WEALTH1 does not: input the mode for the respective INCOME category\n",
    "- for all samples where INCOME and WEALTH are empty: replace with most frequent value for WEALTH1\n"
   ]
  },
  {
   "cell_type": "code",
   "execution_count": 40,
   "id": "3da574bc",
   "metadata": {},
   "outputs": [
    {
     "data": {
      "text/plain": [
       "INCOME\n",
       "1.0    1.0\n",
       "2.0    2.0\n",
       "3.0    6.0\n",
       "4.0    7.0\n",
       "5.0    8.0\n",
       "6.0    9.0\n",
       "7.0    9.0\n",
       "Name: WEALTH1, dtype: float64"
      ]
     },
     "execution_count": 40,
     "metadata": {},
     "output_type": "execute_result"
    }
   ],
   "source": [
    "wealth_income_agg = df.groupby('INCOME').agg(pd.Series.mode)['WEALTH1']\n",
    "wealth_income_agg"
   ]
  },
  {
   "cell_type": "code",
   "execution_count": 77,
   "id": "7ba3b61d",
   "metadata": {},
   "outputs": [],
   "source": [
    "# replace all WEALTH1 values with the most frequent ones for a particular INCOME\n",
    "def clean_wealth_with_income(s):\n",
    "    for i, inc in enumerate(s):\n",
    "        df['WEALTH1'][(df['WEALTH1'].isna()) & (df['INCOME'] == i+1)] = s.iloc[i]\n",
    "        \n",
    "        \n",
    "clean_wealth_with_income(wealth_income_agg)"
   ]
  },
  {
   "cell_type": "code",
   "execution_count": 78,
   "id": "ad462b7f",
   "metadata": {},
   "outputs": [
    {
     "name": "stdout",
     "output_type": "stream",
     "text": [
      "amount of nulls in WEALTH1 feature:  21286\n"
     ]
    }
   ],
   "source": [
    "print('amount of nulls in WEALTH1 feature: ', df['WEALTH1'].isna().sum())"
   ]
  },
  {
   "cell_type": "markdown",
   "id": "9bd003f6",
   "metadata": {},
   "source": [
    "- Now ony NaNs for WEALTH1 are left where also INCOME is a NaN value\n",
    "- I will replace all of them with most frequent value for WEALTH1"
   ]
  },
  {
   "cell_type": "code",
   "execution_count": 82,
   "id": "e9f6e7fc",
   "metadata": {},
   "outputs": [
    {
     "data": {
      "text/plain": [
       "9.0    12312\n",
       "8.0    11631\n",
       "7.0     9973\n",
       "6.0     8614\n",
       "2.0     8381\n",
       "1.0     6475\n",
       "5.0     5280\n",
       "4.0     4810\n",
       "3.0     4237\n",
       "0.0     2413\n",
       "Name: WEALTH1, dtype: int64"
      ]
     },
     "execution_count": 82,
     "metadata": {},
     "output_type": "execute_result"
    }
   ],
   "source": [
    "df['WEALTH1'].value_counts()"
   ]
  },
  {
   "cell_type": "code",
   "execution_count": 86,
   "id": "4ca577ef",
   "metadata": {},
   "outputs": [],
   "source": [
    "df['WEALTH1'][df['WEALTH1'].isna()] = 9.0"
   ]
  },
  {
   "cell_type": "code",
   "execution_count": 87,
   "id": "e495bbe3",
   "metadata": {},
   "outputs": [
    {
     "name": "stdout",
     "output_type": "stream",
     "text": [
      "amount of nulls in WEALTH1 feature:  0\n"
     ]
    }
   ],
   "source": [
    "print('amount of nulls in WEALTH1 feature: ', df['WEALTH1'].isna().sum())"
   ]
  },
  {
   "cell_type": "code",
   "execution_count": null,
   "id": "498cc932",
   "metadata": {},
   "outputs": [],
   "source": []
  }
 ],
 "metadata": {
  "kernelspec": {
   "display_name": "Python 3 (ipykernel)",
   "language": "python",
   "name": "python3"
  },
  "language_info": {
   "codemirror_mode": {
    "name": "ipython",
    "version": 3
   },
   "file_extension": ".py",
   "mimetype": "text/x-python",
   "name": "python",
   "nbconvert_exporter": "python",
   "pygments_lexer": "ipython3",
   "version": "3.9.12"
  }
 },
 "nbformat": 4,
 "nbformat_minor": 5
}
