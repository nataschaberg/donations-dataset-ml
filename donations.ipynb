{
 "cells": [
  {
   "cell_type": "code",
   "execution_count": 1,
   "id": "28573ed7",
   "metadata": {},
   "outputs": [],
   "source": [
    "import pandas as pd\n",
    "import numpy as np\n",
    "\n",
    "import warnings\n",
    "warnings.filterwarnings('ignore')"
   ]
  },
  {
   "cell_type": "code",
   "execution_count": 2,
   "id": "f258bf36",
   "metadata": {},
   "outputs": [],
   "source": [
    "df = pd.read_csv('learningSet.csv')"
   ]
  },
  {
   "cell_type": "code",
   "execution_count": 3,
   "id": "b8658b2a",
   "metadata": {},
   "outputs": [
    {
     "data": {
      "text/plain": [
       "(95412, 481)"
      ]
     },
     "execution_count": 3,
     "metadata": {},
     "output_type": "execute_result"
    }
   ],
   "source": [
    "df.shape"
   ]
  },
  {
   "cell_type": "code",
   "execution_count": 4,
   "id": "92149f6f",
   "metadata": {
    "scrolled": true
   },
   "outputs": [
    {
     "data": {
      "text/html": [
       "<div>\n",
       "<style scoped>\n",
       "    .dataframe tbody tr th:only-of-type {\n",
       "        vertical-align: middle;\n",
       "    }\n",
       "\n",
       "    .dataframe tbody tr th {\n",
       "        vertical-align: top;\n",
       "    }\n",
       "\n",
       "    .dataframe thead th {\n",
       "        text-align: right;\n",
       "    }\n",
       "</style>\n",
       "<table border=\"1\" class=\"dataframe\">\n",
       "  <thead>\n",
       "    <tr style=\"text-align: right;\">\n",
       "      <th></th>\n",
       "      <th>ODATEDW</th>\n",
       "      <th>OSOURCE</th>\n",
       "      <th>TCODE</th>\n",
       "      <th>STATE</th>\n",
       "      <th>ZIP</th>\n",
       "      <th>MAILCODE</th>\n",
       "      <th>PVASTATE</th>\n",
       "      <th>DOB</th>\n",
       "      <th>NOEXCH</th>\n",
       "      <th>RECINHSE</th>\n",
       "      <th>...</th>\n",
       "      <th>TARGET_D</th>\n",
       "      <th>HPHONE_D</th>\n",
       "      <th>RFA_2R</th>\n",
       "      <th>RFA_2F</th>\n",
       "      <th>RFA_2A</th>\n",
       "      <th>MDMAUD_R</th>\n",
       "      <th>MDMAUD_F</th>\n",
       "      <th>MDMAUD_A</th>\n",
       "      <th>CLUSTER2</th>\n",
       "      <th>GEOCODE2</th>\n",
       "    </tr>\n",
       "  </thead>\n",
       "  <tbody>\n",
       "    <tr>\n",
       "      <th>0</th>\n",
       "      <td>8901</td>\n",
       "      <td>GRI</td>\n",
       "      <td>0</td>\n",
       "      <td>IL</td>\n",
       "      <td>61081</td>\n",
       "      <td></td>\n",
       "      <td></td>\n",
       "      <td>3712</td>\n",
       "      <td>0</td>\n",
       "      <td></td>\n",
       "      <td>...</td>\n",
       "      <td>0.0</td>\n",
       "      <td>0</td>\n",
       "      <td>L</td>\n",
       "      <td>4</td>\n",
       "      <td>E</td>\n",
       "      <td>X</td>\n",
       "      <td>X</td>\n",
       "      <td>X</td>\n",
       "      <td>39.0</td>\n",
       "      <td>C</td>\n",
       "    </tr>\n",
       "    <tr>\n",
       "      <th>1</th>\n",
       "      <td>9401</td>\n",
       "      <td>BOA</td>\n",
       "      <td>1</td>\n",
       "      <td>CA</td>\n",
       "      <td>91326</td>\n",
       "      <td></td>\n",
       "      <td></td>\n",
       "      <td>5202</td>\n",
       "      <td>0</td>\n",
       "      <td></td>\n",
       "      <td>...</td>\n",
       "      <td>0.0</td>\n",
       "      <td>0</td>\n",
       "      <td>L</td>\n",
       "      <td>2</td>\n",
       "      <td>G</td>\n",
       "      <td>X</td>\n",
       "      <td>X</td>\n",
       "      <td>X</td>\n",
       "      <td>1.0</td>\n",
       "      <td>A</td>\n",
       "    </tr>\n",
       "    <tr>\n",
       "      <th>2</th>\n",
       "      <td>9001</td>\n",
       "      <td>AMH</td>\n",
       "      <td>1</td>\n",
       "      <td>NC</td>\n",
       "      <td>27017</td>\n",
       "      <td></td>\n",
       "      <td></td>\n",
       "      <td>0</td>\n",
       "      <td>0</td>\n",
       "      <td></td>\n",
       "      <td>...</td>\n",
       "      <td>0.0</td>\n",
       "      <td>1</td>\n",
       "      <td>L</td>\n",
       "      <td>4</td>\n",
       "      <td>E</td>\n",
       "      <td>X</td>\n",
       "      <td>X</td>\n",
       "      <td>X</td>\n",
       "      <td>60.0</td>\n",
       "      <td>C</td>\n",
       "    </tr>\n",
       "  </tbody>\n",
       "</table>\n",
       "<p>3 rows × 481 columns</p>\n",
       "</div>"
      ],
      "text/plain": [
       "   ODATEDW OSOURCE  TCODE STATE    ZIP MAILCODE PVASTATE   DOB NOEXCH  \\\n",
       "0     8901     GRI      0    IL  61081                    3712      0   \n",
       "1     9401     BOA      1    CA  91326                    5202      0   \n",
       "2     9001     AMH      1    NC  27017                       0      0   \n",
       "\n",
       "  RECINHSE  ... TARGET_D HPHONE_D RFA_2R RFA_2F RFA_2A MDMAUD_R  MDMAUD_F  \\\n",
       "0           ...      0.0        0      L      4      E        X         X   \n",
       "1           ...      0.0        0      L      2      G        X         X   \n",
       "2           ...      0.0        1      L      4      E        X         X   \n",
       "\n",
       "  MDMAUD_A CLUSTER2 GEOCODE2  \n",
       "0        X     39.0        C  \n",
       "1        X      1.0        A  \n",
       "2        X     60.0        C  \n",
       "\n",
       "[3 rows x 481 columns]"
      ]
     },
     "execution_count": 4,
     "metadata": {},
     "output_type": "execute_result"
    }
   ],
   "source": [
    "df.head(3)"
   ]
  },
  {
   "cell_type": "markdown",
   "id": "ae3c9d7b",
   "metadata": {},
   "source": [
    "# Data Cleaning"
   ]
  },
  {
   "cell_type": "markdown",
   "id": "746afb4b",
   "metadata": {},
   "source": [
    "- create a list to collect features that we want want to drop"
   ]
  },
  {
   "cell_type": "code",
   "execution_count": 5,
   "id": "7cd48fe6",
   "metadata": {},
   "outputs": [],
   "source": [
    "drop_list = []"
   ]
  },
  {
   "cell_type": "markdown",
   "id": "b5247a41",
   "metadata": {},
   "source": [
    "## Null Values Check"
   ]
  },
  {
   "cell_type": "code",
   "execution_count": 6,
   "id": "e8380ce5",
   "metadata": {},
   "outputs": [],
   "source": [
    "null_check = df.isna().sum() / df.shape[0] * 100"
   ]
  },
  {
   "cell_type": "code",
   "execution_count": 7,
   "id": "a87c3b22",
   "metadata": {},
   "outputs": [
    {
     "name": "stdout",
     "output_type": "stream",
     "text": [
      "features with null values:  92\n"
     ]
    }
   ],
   "source": [
    "print('features with null values: ', len(null_check[null_check > 0]))"
   ]
  },
  {
   "cell_type": "code",
   "execution_count": 8,
   "id": "0278e147",
   "metadata": {},
   "outputs": [
    {
     "name": "stdout",
     "output_type": "stream",
     "text": [
      "Features with null values > 80%:  33\n"
     ]
    },
    {
     "data": {
      "text/plain": [
       "NUMCHLD     87.018404\n",
       "RDATE_3     99.746363\n",
       "RDATE_4     99.705488\n",
       "RDATE_5     99.990567\n",
       "RDATE_6     99.186685\n",
       "RDATE_7     90.677273\n",
       "RDATE_9     82.461326\n",
       "RDATE_10    89.035970\n",
       "RDATE_11    84.551209\n",
       "RDATE_13    87.160944\n",
       "RDATE_15    92.388798\n",
       "RDATE_17    90.146942\n",
       "RDATE_19    83.359535\n",
       "RDATE_20    91.732696\n",
       "RDATE_21    90.029556\n",
       "RDATE_23    91.763091\n",
       "RDATE_24    81.409047\n",
       "RAMNT_3     99.746363\n",
       "RAMNT_4     99.705488\n",
       "RAMNT_5     99.990567\n",
       "RAMNT_6     99.186685\n",
       "RAMNT_7     90.677273\n",
       "RAMNT_9     82.461326\n",
       "RAMNT_10    89.035970\n",
       "RAMNT_11    84.551209\n",
       "RAMNT_13    87.160944\n",
       "RAMNT_15    92.388798\n",
       "RAMNT_17    90.146942\n",
       "RAMNT_19    83.359535\n",
       "RAMNT_20    91.732696\n",
       "RAMNT_21    90.029556\n",
       "RAMNT_23    91.763091\n",
       "RAMNT_24    81.409047\n",
       "dtype: float64"
      ]
     },
     "execution_count": 8,
     "metadata": {},
     "output_type": "execute_result"
    }
   ],
   "source": [
    "print('Features with null values > 80%: ', len(null_check[null_check > 80.]))\n",
    "null_check[null_check > 80.]"
   ]
  },
  {
   "cell_type": "markdown",
   "id": "a6031c56",
   "metadata": {},
   "source": [
    "- add the features with more than 80% null values to drop list"
   ]
  },
  {
   "cell_type": "code",
   "execution_count": 9,
   "id": "cfa47371",
   "metadata": {},
   "outputs": [],
   "source": [
    "drop_list.extend(null_check[null_check > 80.].index)"
   ]
  },
  {
   "cell_type": "markdown",
   "id": "248afc5e",
   "metadata": {},
   "source": [
    "## Check selected categorical features"
   ]
  },
  {
   "cell_type": "markdown",
   "id": "9d31d27d",
   "metadata": {},
   "source": [
    "### OSOURCE and ZIP"
   ]
  },
  {
   "cell_type": "code",
   "execution_count": 10,
   "id": "912d9efb",
   "metadata": {},
   "outputs": [
    {
     "data": {
      "text/plain": [
       "0    GRI\n",
       "1    BOA\n",
       "2    AMH\n",
       "Name: OSOURCE, dtype: object"
      ]
     },
     "execution_count": 10,
     "metadata": {},
     "output_type": "execute_result"
    }
   ],
   "source": [
    "df['OSOURCE'].head(3)"
   ]
  },
  {
   "cell_type": "code",
   "execution_count": 11,
   "id": "a55f9727",
   "metadata": {},
   "outputs": [
    {
     "name": "stdout",
     "output_type": "stream",
     "text": [
      "Amount of unique values in OSOURCE:  896\n"
     ]
    }
   ],
   "source": [
    "print('Amount of unique values in OSOURCE: ', len(df['OSOURCE'].unique()))"
   ]
  },
  {
   "cell_type": "markdown",
   "id": "d448dd4a",
   "metadata": {},
   "source": [
    "### Enrich ZIP data with longitude and latitude \n",
    "- could be used later to make sure that deographical data is included in model"
   ]
  },
  {
   "cell_type": "code",
   "execution_count": 12,
   "id": "e07b5853",
   "metadata": {},
   "outputs": [],
   "source": [
    "df_geo = pd.read_excel('US_zip_lon_lat.xlsx')"
   ]
  },
  {
   "cell_type": "code",
   "execution_count": 13,
   "id": "5195d461",
   "metadata": {},
   "outputs": [
    {
     "data": {
      "text/plain": [
       "(41470, 14)"
      ]
     },
     "execution_count": 13,
     "metadata": {},
     "output_type": "execute_result"
    }
   ],
   "source": [
    "df_geo.shape"
   ]
  },
  {
   "cell_type": "code",
   "execution_count": 14,
   "id": "399c0347",
   "metadata": {},
   "outputs": [
    {
     "name": "stdout",
     "output_type": "stream",
     "text": [
      "<class 'pandas.core.frame.DataFrame'>\n",
      "RangeIndex: 41470 entries, 0 to 41469\n",
      "Data columns (total 14 columns):\n",
      " #   Column                  Non-Null Count  Dtype  \n",
      "---  ------                  --------------  -----  \n",
      " 0   country code            41470 non-null  object \n",
      " 1   postal code             41470 non-null  int64  \n",
      " 2   place                   41470 non-null  object \n",
      " 3   state                   40957 non-null  object \n",
      " 4   statecode               40959 non-null  object \n",
      " 5   province_or_county      40959 non-null  object \n",
      " 6   province_or_countycode  40959 non-null  float64\n",
      " 7   community               1 non-null      object \n",
      " 8   communitycode           1 non-null      float64\n",
      " 9   latitude                41470 non-null  object \n",
      " 10  longitude               41470 non-null  object \n",
      " 11  accuracy                40938 non-null  float64\n",
      " 12  Country                 41470 non-null  object \n",
      " 13  Continent               41470 non-null  object \n",
      "dtypes: float64(3), int64(1), object(10)\n",
      "memory usage: 4.4+ MB\n"
     ]
    }
   ],
   "source": [
    "df_geo.info()"
   ]
  },
  {
   "cell_type": "code",
   "execution_count": 15,
   "id": "3be2eecf",
   "metadata": {},
   "outputs": [
    {
     "data": {
      "text/plain": [
       "0    61081\n",
       "1    91326\n",
       "2    27017\n",
       "Name: ZIP, dtype: object"
      ]
     },
     "execution_count": 15,
     "metadata": {},
     "output_type": "execute_result"
    }
   ],
   "source": [
    "df['ZIP'].head(3)"
   ]
  },
  {
   "cell_type": "code",
   "execution_count": 16,
   "id": "f40f71ec",
   "metadata": {},
   "outputs": [
    {
     "name": "stdout",
     "output_type": "stream",
     "text": [
      "Amount of unique values in ZIP:  896\n"
     ]
    }
   ],
   "source": [
    "print('Amount of unique values in ZIP: ', len(df['OSOURCE'].unique()))"
   ]
  },
  {
   "cell_type": "code",
   "execution_count": 17,
   "id": "7d0543ee",
   "metadata": {},
   "outputs": [],
   "source": [
    "df_zip = pd.DataFrame(df['ZIP'])\n",
    "df_zip['lon'] = 0\n",
    "df_zip['lat'] = 0"
   ]
  },
  {
   "cell_type": "code",
   "execution_count": 18,
   "id": "ad3655f3",
   "metadata": {},
   "outputs": [],
   "source": [
    "for i, row in df_zip.iterrows():\n",
    "    zip_clean = row['ZIP'].replace('-', '')\n",
    "    geo_data = df_geo[df_geo['postal code'] == int(zip_clean)]\n",
    "    if len(geo_data):\n",
    "        df_zip.at[i,'lon'] = list(geo_data['longitude'])[0]\n",
    "        df_zip.at[i,'lat'] = list(geo_data['latitude'])[0]\n",
    "    else: \n",
    "        df_zip.at[i,'lon'] = np.nan\n",
    "        df_zip.at[i,'lat'] = np.nan"
   ]
  },
  {
   "cell_type": "code",
   "execution_count": 19,
   "id": "35fbb90f",
   "metadata": {},
   "outputs": [
    {
     "data": {
      "text/plain": [
       "ZIP      0\n",
       "lon    301\n",
       "lat    301\n",
       "dtype: int64"
      ]
     },
     "execution_count": 19,
     "metadata": {},
     "output_type": "execute_result"
    }
   ],
   "source": [
    "df_zip.isna().sum()"
   ]
  },
  {
   "cell_type": "markdown",
   "id": "9a119563",
   "metadata": {},
   "source": [
    "- add OSOURCE and ZIP to drop list"
   ]
  },
  {
   "cell_type": "code",
   "execution_count": 20,
   "id": "75f43a01",
   "metadata": {},
   "outputs": [],
   "source": [
    "drop_list.extend(['OSOURCE', 'ZIP'])"
   ]
  },
  {
   "cell_type": "markdown",
   "id": "5d2d7c96",
   "metadata": {},
   "source": [
    "### GENDER"
   ]
  },
  {
   "cell_type": "code",
   "execution_count": 21,
   "id": "3df50d8b",
   "metadata": {},
   "outputs": [
    {
     "data": {
      "text/plain": [
       "0    F\n",
       "1    M\n",
       "2    M\n",
       "Name: GENDER, dtype: object"
      ]
     },
     "execution_count": 21,
     "metadata": {},
     "output_type": "execute_result"
    }
   ],
   "source": [
    "df['GENDER'].head(3)"
   ]
  },
  {
   "cell_type": "code",
   "execution_count": 22,
   "id": "823e8e49",
   "metadata": {},
   "outputs": [
    {
     "name": "stdout",
     "output_type": "stream",
     "text": [
      "Amount of unique values in GENDER:  7\n",
      "['F' 'M' ' ' 'C' 'U' 'J' 'A']\n"
     ]
    }
   ],
   "source": [
    "print('Amount of unique values in GENDER: ', len(df['GENDER'].unique()))\n",
    "print(df['GENDER'].unique())"
   ]
  },
  {
   "cell_type": "code",
   "execution_count": 23,
   "id": "a2fe0d9c",
   "metadata": {},
   "outputs": [
    {
     "data": {
      "text/plain": [
       "F    51277\n",
       "M    39094\n",
       "      2957\n",
       "U     1715\n",
       "J      365\n",
       "C        2\n",
       "A        2\n",
       "Name: GENDER, dtype: int64"
      ]
     },
     "execution_count": 23,
     "metadata": {},
     "output_type": "execute_result"
    }
   ],
   "source": [
    "df['GENDER'].value_counts()"
   ]
  },
  {
   "cell_type": "markdown",
   "id": "9c5d0dbd",
   "metadata": {},
   "source": [
    "- In GENDER we see that the most frequent category is F\n",
    "- we will replace the empty / non values with this "
   ]
  },
  {
   "cell_type": "code",
   "execution_count": 24,
   "id": "2af2e9cd",
   "metadata": {},
   "outputs": [],
   "source": [
    "df['GENDER'].replace(r'^\\s+$',  df['GENDER'].mode()[0], regex=True, inplace=True)"
   ]
  },
  {
   "cell_type": "code",
   "execution_count": 25,
   "id": "dfe5ad15",
   "metadata": {},
   "outputs": [],
   "source": [
    "df['GENDER'] = ['other' if g != 'F' and g != 'M' else g for g in df['GENDER'] ];"
   ]
  },
  {
   "cell_type": "code",
   "execution_count": 26,
   "id": "eb49dd7e",
   "metadata": {},
   "outputs": [
    {
     "data": {
      "text/plain": [
       "F        54234\n",
       "M        39094\n",
       "other     2084\n",
       "Name: GENDER, dtype: int64"
      ]
     },
     "execution_count": 26,
     "metadata": {},
     "output_type": "execute_result"
    }
   ],
   "source": [
    "df['GENDER'].value_counts()"
   ]
  },
  {
   "cell_type": "code",
   "execution_count": null,
   "id": "c86fa252",
   "metadata": {},
   "outputs": [],
   "source": []
  }
 ],
 "metadata": {
  "kernelspec": {
   "display_name": "Python 3 (ipykernel)",
   "language": "python",
   "name": "python3"
  },
  "language_info": {
   "codemirror_mode": {
    "name": "ipython",
    "version": 3
   },
   "file_extension": ".py",
   "mimetype": "text/x-python",
   "name": "python",
   "nbconvert_exporter": "python",
   "pygments_lexer": "ipython3",
   "version": "3.9.12"
  }
 },
 "nbformat": 4,
 "nbformat_minor": 5
}
