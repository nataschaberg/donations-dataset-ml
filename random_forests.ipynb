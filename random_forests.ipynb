{
 "cells": [
  {
   "cell_type": "code",
   "execution_count": 1,
   "id": "a82cff62",
   "metadata": {},
   "outputs": [],
   "source": [
    "import pandas as pd\n",
    "import numpy as np\n",
    "import matplotlib.pyplot as plt"
   ]
  },
  {
   "cell_type": "markdown",
   "id": "3523bead",
   "metadata": {},
   "source": [
    "Lab | Random Forests\n",
    "For this lab, you will be using the CSV files provided in the files_for_lab folder.\n",
    "\n",
    "## Instructions\n",
    "- Apply the Random Forests algorithm but this time only by upscaling the data using SMOTE.\n",
    "- Note that since SMOTE works on numerical data only, we will first encode the categorical variables in this case."
   ]
  },
  {
   "cell_type": "code",
   "execution_count": 6,
   "id": "d082ade1",
   "metadata": {},
   "outputs": [],
   "source": [
    "categorical = pd.read_csv('categorical.csv')\n",
    "numerical = pd.read_csv('numerical.csv')\n",
    "target = pd.read_csv('target.csv')"
   ]
  },
  {
   "cell_type": "code",
   "execution_count": 7,
   "id": "4d1fbc66",
   "metadata": {},
   "outputs": [
    {
     "data": {
      "text/plain": [
       "((95412, 22), (95412, 315), (95412, 2))"
      ]
     },
     "execution_count": 7,
     "metadata": {},
     "output_type": "execute_result"
    }
   ],
   "source": [
    "categorical.shape, numerical.shape, target.shape"
   ]
  },
  {
   "cell_type": "markdown",
   "id": "2b910257",
   "metadata": {},
   "source": [
    "## Data Cleaning"
   ]
  },
  {
   "cell_type": "code",
   "execution_count": 16,
   "id": "4fe4d7dc",
   "metadata": {},
   "outputs": [
    {
     "name": "stdout",
     "output_type": "stream",
     "text": [
      "NaN values in numerical features:  False\n",
      "NaN values in categorical features:  False\n",
      "NaN values in target:  False\n"
     ]
    }
   ],
   "source": [
    "print('NaN values in numerical features: ', numerical.isna().sum().any())\n",
    "print('NaN values in categorical features: ', categorical.isna().sum().any())\n",
    "print('NaN values in target: ', target.isna().sum().any())"
   ]
  },
  {
   "cell_type": "code",
   "execution_count": 20,
   "id": "da420cb5",
   "metadata": {},
   "outputs": [
    {
     "data": {
      "text/plain": [
       "22"
      ]
     },
     "execution_count": 20,
     "metadata": {},
     "output_type": "execute_result"
    }
   ],
   "source": [
    "len(categorical.columns)"
   ]
  },
  {
   "cell_type": "code",
   "execution_count": 23,
   "id": "58faba16",
   "metadata": {},
   "outputs": [
    {
     "name": "stdout",
     "output_type": "stream",
     "text": [
      "STATE ['IL' 'CA' 'NC' 'FL' 'other' 'IN' 'MI' 'MO' 'TX' 'WA' 'WI' 'GA']\n",
      "CLUSTER [36 14 43 44 16 40 39 45 35 53 17 51  2 20 27 12 22 13  8 25 15 42 11 28\n",
      " 18 24 34  5 31 32 46  3 50  7 37 10 38 21  9 29 30  4 41 49 23 33  1 47\n",
      " 26 48 19  6 52]\n",
      "HOMEOWNR ['H' 'U']\n",
      "GENDER ['F' 'M' 'other']\n",
      "DATASRCE [3 1 2]\n",
      "RFA_2R ['L']\n",
      "RFA_2A ['E' 'G' 'F' 'D']\n",
      "GEOCODE2 ['C' 'A' 'D' 'B']\n",
      "DOMAIN_A ['T' 'S' 'R' 'U' 'C']\n",
      "DOMAIN_B [2 1 3 4]\n",
      "ODATEW_YR [89 94 90 87 86 88 96 92 93 95 91 97 85 84 83]\n",
      "ODATEW_MM [ 1  4  2  9 10 11 12  6  8  3  5  7]\n",
      "DOB_YR [37 52  0 28 20 60 32 23 26 27 54 36 16 43 56 14 48 29 10 13 68 53 46 31\n",
      " 90 30 58 50 64 18 62 57 44 25 51 65 35 34 38 21 24 11 47 80 39 12 72 22\n",
      " 40 59 15 17 42 19 61 41 49 33 45 63 81 55 67 69 70 66 76 91 74 71 78  1\n",
      " 79 73 75  2 84 82 77 87 95 96 88 97 86  8  6  4 92  5 93  7 89  9 85 83]\n",
      "DOB_MM [12  2  1 11  3  9  7  4 10  8  6  5]\n",
      "MINRDATE_YR [92 93 91 87 94 95 88 96 89 90 97 86 77 80 75 84 82 78 85 83]\n",
      "MINRDATE_MM [ 8 10 11  7  5  9  2 12  6  1  4  3]\n",
      "MAXRDATE_YR [94 95 92 96 93 91 87 89 88 86 90 97 84 85 75 79 82 83]\n",
      "MAXRDATE_MM [ 2 12  7 11  1 10  8  4  9  6  5  3]\n",
      "LASTDATE_YR [95 96 97]\n",
      "LASTDATE_MM [12  1  6  4  8  7  2  3  9  5 10 11]\n",
      "FIRSTDATE_YR [89 93 90 87 79 94 88 96 95 92 91 86 83 84 77 80 78 85 72 82 74 81 75 76\n",
      "  0 49]\n",
      "FIRSTDATE_MM [11 10  1  2  3  9  5  4 12  6  7  8]\n"
     ]
    }
   ],
   "source": [
    "[print(col, categorical[col].unique()) for col in categorical.columns];"
   ]
  },
  {
   "cell_type": "code",
   "execution_count": 32,
   "id": "003e69c3",
   "metadata": {},
   "outputs": [],
   "source": [
    "def convert_to_numerical(dataset_old, dataset_new, features):\n",
    "    for f in features:\n",
    "        dataset_new[f] = pd.to_numeric(dataset_old[f], errors='coerce')\n",
    "        dataset_old.drop(f, axis=1, inplace=True)"
   ]
  },
  {
   "cell_type": "code",
   "execution_count": 33,
   "id": "7fab0ea2",
   "metadata": {},
   "outputs": [],
   "source": [
    "features_to_num = categorical[categorical.columns[~categorical.columns.isin(['STATE', 'HOMEOWNR', \n",
    "                                                                             'GENDER', 'RFA_2R', 'RFA_2A', \n",
    "                                                                             'GEOCODE2', 'DOMAIN_A'])]].columns\n",
    "convert_to_numerical(categorical, numerical, features_to_num)"
   ]
  },
  {
   "cell_type": "markdown",
   "id": "50eec2e2",
   "metadata": {},
   "source": [
    "## Feature Selection"
   ]
  },
  {
   "cell_type": "markdown",
   "id": "ab219f2a",
   "metadata": {},
   "source": [
    "Instructions\n",
    "Apply the Random Forests algorithm but this time only by upscaling the data using SMOTE.\n",
    "Note that since SMOTE works on numerical data only, we will first encode the categorical variables in this case."
   ]
  },
  {
   "cell_type": "code",
   "execution_count": null,
   "id": "ffa26ffd",
   "metadata": {},
   "outputs": [],
   "source": []
  }
 ],
 "metadata": {
  "kernelspec": {
   "display_name": "Python 3 (ipykernel)",
   "language": "python",
   "name": "python3"
  },
  "language_info": {
   "codemirror_mode": {
    "name": "ipython",
    "version": 3
   },
   "file_extension": ".py",
   "mimetype": "text/x-python",
   "name": "python",
   "nbconvert_exporter": "python",
   "pygments_lexer": "ipython3",
   "version": "3.9.12"
  }
 },
 "nbformat": 4,
 "nbformat_minor": 5
}
