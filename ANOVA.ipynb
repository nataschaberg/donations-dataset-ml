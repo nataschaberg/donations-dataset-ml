{
 "cells": [
  {
   "cell_type": "code",
   "execution_count": 1,
   "id": "a09cd443",
   "metadata": {},
   "outputs": [],
   "source": [
    "import pandas as pd\n",
    "import scipy.stats as stats"
   ]
  },
  {
   "cell_type": "markdown",
   "id": "cdf67ada",
   "metadata": {},
   "source": [
    "## Part I"
   ]
  },
  {
   "cell_type": "markdown",
   "id": "c8f9fabe",
   "metadata": {},
   "source": [
    "**Context**\n",
    "Suppose you are working as an analyst in a microprocessor chip manufacturing plant. You have been given the task of analyzing a plasma etching process with respect to changing Power (in Watts) of the plasma beam. Data was collected and provided to you to conduct statistical analysis and check if changing the power of the plasma beam has any effect on the etching rate by the machine. You will conduct ANOVA and check if there is any difference in the mean etching rate for different levels of power."
   ]
  },
  {
   "cell_type": "markdown",
   "id": "957dbfde",
   "metadata": {},
   "source": [
    "**Statistical Test Setup**\n",
    "\n",
    "Since we have one independent variable here (power) this is a one way ANOVA test\n",
    "\n",
    "\n",
    "**Null Hypothesis**\n",
    "\n",
    "There is no significant difference between the means of echting rate for the different power groups.\n",
    "\n",
    "\n",
    "**Alternative Hypothesis**\n",
    "\n",
    "The mean echting rate of at least one power group is different from the mean etching rate of the other groups.\n",
    "\n",
    "\n",
    "**Level of Significance (alpha)**\n",
    "\n",
    "We set the alpha to 0.05"
   ]
  },
  {
   "cell_type": "code",
   "execution_count": 2,
   "id": "c37584df",
   "metadata": {},
   "outputs": [],
   "source": [
    "data = pd.read_excel('anova_lab_data.xlsx')"
   ]
  },
  {
   "cell_type": "code",
   "execution_count": 3,
   "id": "f6885aac",
   "metadata": {},
   "outputs": [
    {
     "data": {
      "text/html": [
       "<div>\n",
       "<style scoped>\n",
       "    .dataframe tbody tr th:only-of-type {\n",
       "        vertical-align: middle;\n",
       "    }\n",
       "\n",
       "    .dataframe tbody tr th {\n",
       "        vertical-align: top;\n",
       "    }\n",
       "\n",
       "    .dataframe thead th {\n",
       "        text-align: right;\n",
       "    }\n",
       "</style>\n",
       "<table border=\"1\" class=\"dataframe\">\n",
       "  <thead>\n",
       "    <tr style=\"text-align: right;\">\n",
       "      <th></th>\n",
       "      <th>Power</th>\n",
       "      <th>Etching Rate</th>\n",
       "    </tr>\n",
       "  </thead>\n",
       "  <tbody>\n",
       "    <tr>\n",
       "      <th>0</th>\n",
       "      <td>160 W</td>\n",
       "      <td>5.43</td>\n",
       "    </tr>\n",
       "    <tr>\n",
       "      <th>1</th>\n",
       "      <td>180 W</td>\n",
       "      <td>6.24</td>\n",
       "    </tr>\n",
       "    <tr>\n",
       "      <th>2</th>\n",
       "      <td>200 W</td>\n",
       "      <td>8.79</td>\n",
       "    </tr>\n",
       "    <tr>\n",
       "      <th>3</th>\n",
       "      <td>160 W</td>\n",
       "      <td>5.71</td>\n",
       "    </tr>\n",
       "    <tr>\n",
       "      <th>4</th>\n",
       "      <td>180 W</td>\n",
       "      <td>6.71</td>\n",
       "    </tr>\n",
       "    <tr>\n",
       "      <th>5</th>\n",
       "      <td>200 W</td>\n",
       "      <td>9.20</td>\n",
       "    </tr>\n",
       "    <tr>\n",
       "      <th>6</th>\n",
       "      <td>160 W</td>\n",
       "      <td>6.22</td>\n",
       "    </tr>\n",
       "    <tr>\n",
       "      <th>7</th>\n",
       "      <td>180 W</td>\n",
       "      <td>5.98</td>\n",
       "    </tr>\n",
       "    <tr>\n",
       "      <th>8</th>\n",
       "      <td>200 W</td>\n",
       "      <td>7.90</td>\n",
       "    </tr>\n",
       "    <tr>\n",
       "      <th>9</th>\n",
       "      <td>160 W</td>\n",
       "      <td>6.01</td>\n",
       "    </tr>\n",
       "    <tr>\n",
       "      <th>10</th>\n",
       "      <td>180 W</td>\n",
       "      <td>5.66</td>\n",
       "    </tr>\n",
       "    <tr>\n",
       "      <th>11</th>\n",
       "      <td>200 W</td>\n",
       "      <td>8.15</td>\n",
       "    </tr>\n",
       "    <tr>\n",
       "      <th>12</th>\n",
       "      <td>160 W</td>\n",
       "      <td>5.59</td>\n",
       "    </tr>\n",
       "    <tr>\n",
       "      <th>13</th>\n",
       "      <td>180 W</td>\n",
       "      <td>6.60</td>\n",
       "    </tr>\n",
       "    <tr>\n",
       "      <th>14</th>\n",
       "      <td>200 W</td>\n",
       "      <td>7.55</td>\n",
       "    </tr>\n",
       "  </tbody>\n",
       "</table>\n",
       "</div>"
      ],
      "text/plain": [
       "   Power   Etching Rate\n",
       "0   160 W          5.43\n",
       "1   180 W          6.24\n",
       "2   200 W          8.79\n",
       "3   160 W          5.71\n",
       "4   180 W          6.71\n",
       "5   200 W          9.20\n",
       "6   160 W          6.22\n",
       "7   180 W          5.98\n",
       "8   200 W          7.90\n",
       "9   160 W          6.01\n",
       "10  180 W          5.66\n",
       "11  200 W          8.15\n",
       "12  160 W          5.59\n",
       "13  180 W          6.60\n",
       "14  200 W          7.55"
      ]
     },
     "execution_count": 3,
     "metadata": {},
     "output_type": "execute_result"
    }
   ],
   "source": [
    "data"
   ]
  },
  {
   "cell_type": "markdown",
   "id": "5762927d",
   "metadata": {},
   "source": [
    "In ANOVA, degrees of freedom (DoF) are a measure of the amount of information in the data used to estimate the parameters of the model. There are three types of DoF used in ANOVA:\n",
    "- Degrees of freedom of the model\n",
    "- Degrees of freedom of error terms\n",
    "- Total degrees of freedom"
   ]
  },
  {
   "cell_type": "markdown",
   "id": "d34723de",
   "metadata": {},
   "source": [
    "**Degrees of freedom of the model:** \n",
    "\n",
    "This is the number of parameters in the model that are estimated from the data. In one-way ANOVA, the model has one parameter for each group mean, so the degrees of freedom of the model is the number of groups minus one (df_model = k - 1, where k is the number of groups).\n",
    "\n",
    "**Degrees of freedom of error terms:**\n",
    "\n",
    "This is a measure of the amount of variation in the data that is not explained by the model. It represents the variability of scores within each group and is computed as the total number of observations minus the number of groups (df_error = N - k, where N is the total number of observations).\n",
    "\n",
    "**Total degrees of freedom:**\n",
    "\n",
    "This is the total amount of information in the data and is computed as the sum of the degrees of freedom of the model and the degrees of freedom of error terms (df_total = df_model + df_error).\n",
    "\n",
    "Note, the **degrees of freedom of the model** and **error terms** are used to compute the **F statistic**, which is used to test the significance of the model."
   ]
  },
  {
   "cell_type": "code",
   "execution_count": 4,
   "id": "6b6cfbf3",
   "metadata": {},
   "outputs": [],
   "source": [
    "data.columns = data.columns.str.strip()"
   ]
  },
  {
   "cell_type": "code",
   "execution_count": 5,
   "id": "6912989c",
   "metadata": {},
   "outputs": [
    {
     "name": "stdout",
     "output_type": "stream",
     "text": [
      "Degrees of freedom of the model: 2\n"
     ]
    }
   ],
   "source": [
    "dof_model = len(data['Power'].unique()) - 1\n",
    "print('Degrees of freedom of the model:', dof_model)"
   ]
  },
  {
   "cell_type": "code",
   "execution_count": 6,
   "id": "d207c321",
   "metadata": {},
   "outputs": [
    {
     "name": "stdout",
     "output_type": "stream",
     "text": [
      "Degrees of freedom of error terms: 12\n"
     ]
    }
   ],
   "source": [
    "dof_error = data.shape[0] - len(data['Power'].unique())\n",
    "print('Degrees of freedom of error terms:', dof_error)"
   ]
  },
  {
   "cell_type": "code",
   "execution_count": 7,
   "id": "cd3c7e08",
   "metadata": {},
   "outputs": [
    {
     "name": "stdout",
     "output_type": "stream",
     "text": [
      "Total degrees of freedom: 14\n"
     ]
    }
   ],
   "source": [
    "print('Total degrees of freedom:', dof_model + dof_error)"
   ]
  },
  {
   "cell_type": "markdown",
   "id": "d5a2cc19",
   "metadata": {},
   "source": [
    "## Part II"
   ]
  },
  {
   "cell_type": "code",
   "execution_count": 8,
   "id": "50b0dd95",
   "metadata": {},
   "outputs": [],
   "source": [
    "echting_per_power_group = [ data['Etching Rate'][data['Power'] == p_type] for p_type in data['Power'].unique()]"
   ]
  },
  {
   "cell_type": "code",
   "execution_count": 9,
   "id": "6f127108",
   "metadata": {},
   "outputs": [
    {
     "data": {
      "text/plain": [
       "3"
      ]
     },
     "execution_count": 9,
     "metadata": {},
     "output_type": "execute_result"
    }
   ],
   "source": [
    "len(echting_per_power_group)"
   ]
  },
  {
   "cell_type": "code",
   "execution_count": 10,
   "id": "fb1e59cd",
   "metadata": {},
   "outputs": [],
   "source": [
    "statistic, pvalue = stats.f_oneway(*echting_per_power_group)"
   ]
  },
  {
   "cell_type": "code",
   "execution_count": 11,
   "id": "0d3370b8",
   "metadata": {},
   "outputs": [
    {
     "name": "stdout",
     "output_type": "stream",
     "text": [
      "statistic of 36.87895470100505 with statistically significant p value of 7.506584272358903e-06\n"
     ]
    }
   ],
   "source": [
    "res = 'statistically significant' if pvalue < 0.05 else 'statistically insignificant'\n",
    "print('statistic of', statistic, 'with', res, 'p value of', pvalue)"
   ]
  },
  {
   "cell_type": "markdown",
   "id": "c25854d7",
   "metadata": {},
   "source": [
    "### Conclusion\n",
    "\n",
    "Based on the pvalue of **0.000007506584272358903** which is smaller than our alpha we can reject the Null Hypothesis in favour of the Alternative Hypothesis. The mean echting rate of at least one power group is different compared to the other groups.   "
   ]
  }
 ],
 "metadata": {
  "kernelspec": {
   "display_name": "Python 3 (ipykernel)",
   "language": "python",
   "name": "python3"
  },
  "language_info": {
   "codemirror_mode": {
    "name": "ipython",
    "version": 3
   },
   "file_extension": ".py",
   "mimetype": "text/x-python",
   "name": "python",
   "nbconvert_exporter": "python",
   "pygments_lexer": "ipython3",
   "version": "3.9.12"
  }
 },
 "nbformat": 4,
 "nbformat_minor": 5
}
